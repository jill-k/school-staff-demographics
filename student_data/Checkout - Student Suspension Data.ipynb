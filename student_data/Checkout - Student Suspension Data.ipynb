{
 "cells": [
  {
   "cell_type": "markdown",
   "metadata": {},
   "source": [
    "Goal: Download all student suspension data for all schools in the past 4 years and create a master csv."
   ]
  },
  {
   "cell_type": "code",
   "execution_count": 11,
   "metadata": {
    "collapsed": true
   },
   "outputs": [],
   "source": [
    "import pandas as pd\n",
    "import requests\n",
    "from bs4 import BeautifulSoup as bs\n",
    "import re\n",
    "import glob\n",
    "import os"
   ]
  },
  {
   "cell_type": "markdown",
   "metadata": {},
   "source": [
    "The export button on the suspension report shows where to specify the year argument in the URL. We wrote a loop to download each year's worth of data to .xls. DESE started publishing suspension data in this format in 2013. "
   ]
  },
  {
   "cell_type": "code",
   "execution_count": null,
   "metadata": {
    "collapsed": true
   },
   "outputs": [],
   "source": [
    "years = [2013, 2014, 2015, 2016]\n",
    "\n",
    "for year in years:\n",
    "    base = 'http://profiles.doe.mass.edu/state_report/ssdr.aspx?ctl00$ContentPlaceHolder1$fycode={}&export_excel=yes&ctl00$ContentPlaceHolder1$subjectCode=ALL&ctl00$ContentPlaceHolder1$reportType=SCHOOL&ctl00$ContentPlaceHolder1$studentGroup=ALL'\n",
    "    base = base.format(year)\n",
    "    print(base)\n",
    "    filename = \"student_\"+\"suspensions_\"+str(year)+\".xls\"\n",
    "    with open(filename, 'w') as output:\n",
    "        output.write(requests.get(base).text)"
   ]
  },
  {
   "cell_type": "markdown",
   "metadata": {
    "collapsed": true
   },
   "source": [
    "The below function converts the .xls files to dataframes. Files from 2013 to 2015 are passed through the function and are added to a master dataframe."
   ]
  },
  {
   "cell_type": "code",
   "execution_count": 1,
   "metadata": {
    "collapsed": true
   },
   "outputs": [],
   "source": [
    "def clean_file(file):\n",
    "    df = pd.read_html(file)\n",
    "    df = pd.DataFrame(df[1])\n",
    "    header = df.iloc[0]\n",
    "    df.columns = header\n",
    "    df = df[1:]\n",
    "    file_name = os.path.splitext(file)[0]\n",
    "    df[\"Source\"] = file_name\n",
    "    df['Year'] = df[\"Source\"].str[-4:]\n",
    "    return df"
   ]
  },
  {
   "cell_type": "code",
   "execution_count": 13,
   "metadata": {
    "collapsed": true
   },
   "outputs": [],
   "source": [
    "all_files = glob.glob(\"student_suspensions_201[3-5].xls\")\n",
    "df_list = []\n",
    "\n",
    "for file in all_files:\n",
    "    file = clean_file(file)\n",
    "    df_list.append(file)\n",
    "    \n",
    "df = pd.concat(df_list)"
   ]
  },
  {
   "cell_type": "markdown",
   "metadata": {
    "collapsed": true
   },
   "source": [
    "Test out mask for suspension data"
   ]
  },
  {
   "cell_type": "code",
   "execution_count": 15,
   "metadata": {},
   "outputs": [
    {
     "data": {
      "text/html": [
       "<div>\n",
       "<style>\n",
       "    .dataframe thead tr:only-child th {\n",
       "        text-align: right;\n",
       "    }\n",
       "\n",
       "    .dataframe thead th {\n",
       "        text-align: left;\n",
       "    }\n",
       "\n",
       "    .dataframe tbody tr th {\n",
       "        vertical-align: top;\n",
       "    }\n",
       "</style>\n",
       "<table border=\"1\" class=\"dataframe\">\n",
       "  <thead>\n",
       "    <tr style=\"text-align: right;\">\n",
       "      <th></th>\n",
       "      <th>% Emergency Removal</th>\n",
       "      <th>% Expulsion</th>\n",
       "      <th>% In-School Suspension</th>\n",
       "      <th>% Out-of-School Suspension</th>\n",
       "      <th>% Permanent Expulsion</th>\n",
       "      <th>% Removed to Alternate Setting</th>\n",
       "      <th>Org Code</th>\n",
       "      <th>SCHOOL</th>\n",
       "      <th>Source</th>\n",
       "      <th>Students</th>\n",
       "      <th>Students Disciplined</th>\n",
       "      <th>Year</th>\n",
       "    </tr>\n",
       "  </thead>\n",
       "  <tbody>\n",
       "    <tr>\n",
       "      <th>1</th>\n",
       "      <td>NaN</td>\n",
       "      <td>NaN</td>\n",
       "      <td>0.5</td>\n",
       "      <td>5.5</td>\n",
       "      <td>0.0</td>\n",
       "      <td>0.0</td>\n",
       "      <td>04450105</td>\n",
       "      <td>Abby Kelley Foster Charter Public (District) -...</td>\n",
       "      <td>student_suspensions_2013</td>\n",
       "      <td>1436</td>\n",
       "      <td>83</td>\n",
       "      <td>2013</td>\n",
       "    </tr>\n",
       "    <tr>\n",
       "      <th>1</th>\n",
       "      <td>NaN</td>\n",
       "      <td>NaN</td>\n",
       "      <td>0.1</td>\n",
       "      <td>2.4</td>\n",
       "      <td>0.0</td>\n",
       "      <td>0.0</td>\n",
       "      <td>04450105</td>\n",
       "      <td>Abby Kelley Foster Charter Public (District) -...</td>\n",
       "      <td>student_suspensions_2014</td>\n",
       "      <td>1451</td>\n",
       "      <td>35</td>\n",
       "      <td>2014</td>\n",
       "    </tr>\n",
       "    <tr>\n",
       "      <th>1</th>\n",
       "      <td>0.0</td>\n",
       "      <td>0.0</td>\n",
       "      <td>0.9</td>\n",
       "      <td>1.9</td>\n",
       "      <td>NaN</td>\n",
       "      <td>0.0</td>\n",
       "      <td>04450105</td>\n",
       "      <td>Abby Kelley Foster Charter Public (District) -...</td>\n",
       "      <td>student_suspensions_2015</td>\n",
       "      <td>1443</td>\n",
       "      <td>35</td>\n",
       "      <td>2015</td>\n",
       "    </tr>\n",
       "  </tbody>\n",
       "</table>\n",
       "</div>"
      ],
      "text/plain": [
       "  % Emergency Removal % Expulsion % In-School Suspension  \\\n",
       "1                 NaN         NaN                    0.5   \n",
       "1                 NaN         NaN                    0.1   \n",
       "1                 0.0         0.0                    0.9   \n",
       "\n",
       "  % Out-of-School Suspension % Permanent Expulsion  \\\n",
       "1                        5.5                   0.0   \n",
       "1                        2.4                   0.0   \n",
       "1                        1.9                   NaN   \n",
       "\n",
       "  % Removed to Alternate Setting  Org Code  \\\n",
       "1                            0.0  04450105   \n",
       "1                            0.0  04450105   \n",
       "1                            0.0  04450105   \n",
       "\n",
       "                                              SCHOOL  \\\n",
       "1  Abby Kelley Foster Charter Public (District) -...   \n",
       "1  Abby Kelley Foster Charter Public (District) -...   \n",
       "1  Abby Kelley Foster Charter Public (District) -...   \n",
       "\n",
       "                     Source Students Students Disciplined  Year  \n",
       "1  student_suspensions_2013     1436                   83  2013  \n",
       "1  student_suspensions_2014     1451                   35  2014  \n",
       "1  student_suspensions_2015     1443                   35  2015  "
      ]
     },
     "execution_count": 15,
     "metadata": {},
     "output_type": "execute_result"
    }
   ],
   "source": [
    "mask = df[\"Org Code\"] == \"04450105\"\n",
    "df_abbyk = df[mask]\n",
    "\n",
    "df_abbyk"
   ]
  },
  {
   "cell_type": "markdown",
   "metadata": {
    "collapsed": true
   },
   "source": [
    "Set ORG CODE as index and write master file to CSV"
   ]
  },
  {
   "cell_type": "code",
   "execution_count": 18,
   "metadata": {
    "collapsed": true
   },
   "outputs": [],
   "source": [
    "df = df.set_index('Org Code')\n",
    "df.to_csv(\"student_suspensions_all.csv\")"
   ]
  }
 ],
 "metadata": {
  "kernelspec": {
   "display_name": "Python 3",
   "language": "python",
   "name": "python3"
  },
  "language_info": {
   "codemirror_mode": {
    "name": "ipython",
    "version": 3
   },
   "file_extension": ".py",
   "mimetype": "text/x-python",
   "name": "python",
   "nbconvert_exporter": "python",
   "pygments_lexer": "ipython3",
   "version": "3.6.1"
  }
 },
 "nbformat": 4,
 "nbformat_minor": 2
}
