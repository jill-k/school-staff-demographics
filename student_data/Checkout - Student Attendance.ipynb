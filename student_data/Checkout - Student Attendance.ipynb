{
 "cells": [
  {
   "cell_type": "code",
   "execution_count": 332,
   "metadata": {
    "collapsed": true
   },
   "outputs": [],
   "source": [
    "import pandas as pd\n",
    "import requests\n",
    "from bs4 import BeautifulSoup as bs\n",
    "import re\n",
    "import glob\n",
    "import os"
   ]
  },
  {
   "cell_type": "code",
   "execution_count": null,
   "metadata": {
    "collapsed": true
   },
   "outputs": [],
   "source": [
    "# Get list of school codes and names"
   ]
  },
  {
   "cell_type": "code",
   "execution_count": 331,
   "metadata": {},
   "outputs": [],
   "source": [
    "org_codes = pd.read_csv(\"student_raceeth_all.csv\", dtype={\"Org Code\": object}, usecols = [\"SCHOOL\", \"Org Code\", \"Year\"])"
   ]
  },
  {
   "cell_type": "code",
   "execution_count": null,
   "metadata": {
    "collapsed": true
   },
   "outputs": [],
   "source": [
    "## Make a list of org codes for each year"
   ]
  },
  {
   "cell_type": "code",
   "execution_count": 338,
   "metadata": {},
   "outputs": [],
   "source": [
    "## This works\n",
    "\n",
    "def get_school_attendance_indicators(year):\n",
    "    mask = org_codes[\"Year\"] == year\n",
    "    code_list = org_codes[mask]\n",
    "    code_list = list(set(code_list['Org Code'].tolist()))\n",
    "    \n",
    "    dfs = []\n",
    "    for code in code_list:\n",
    "        year = str(year)\n",
    "        attendance = 'http://profiles.doe.mass.edu/profiles/student.aspx?orgcode={}&orgtypecode=6&leftNavId=303&fycode={}'\n",
    "        attendance = attendance.format(code, year)\n",
    "        print(attendance)\n",
    "        attendance = pd.read_html(attendance)\n",
    "        attendance = attendance[1][1]\n",
    "        attendance[0] = code\n",
    "        if year in ['2013', '2014', '2015']:\n",
    "            attendance[7] = year\n",
    "        else:\n",
    "            attendance[9] = year\n",
    "        attend_df = pd.DataFrame(attendance)\n",
    "        attend_df = attend_df.transpose()\n",
    "        dfs.append(attend_df)\n",
    "    return dfs"
   ]
  },
  {
   "cell_type": "code",
   "execution_count": null,
   "metadata": {},
   "outputs": [],
   "source": [
    "## These have run\n",
    "attendance_2015 = get_school_attendance_indicators(2015)\n",
    "attendance_2014 = get_school_attendance_indicators(2014)\n",
    "attendance_2013 = get_school_attendance_indicators(2013)"
   ]
  },
  {
   "cell_type": "code",
   "execution_count": 282,
   "metadata": {
    "collapsed": true
   },
   "outputs": [],
   "source": [
    "attend_13_15 = attendance_2015 + attendance_2014 + attendance_2013\n",
    "attend_df_13_15 = pd.concat(attend_13_15)"
   ]
  },
  {
   "cell_type": "code",
   "execution_count": null,
   "metadata": {},
   "outputs": [],
   "source": [
    "attend_df_13_15"
   ]
  },
  {
   "cell_type": "code",
   "execution_count": 284,
   "metadata": {},
   "outputs": [],
   "source": [
    "sch = 'http://profiles.doe.mass.edu/profiles/student.aspx?orgcode=00100055&orgtypecode=6&leftNavId=303&fycode=2015'\n",
    "headers = pd.read_html(sch)\n",
    "headers = list(headers[1][0])\n",
    "headers[0] = \"Org Code\"\n",
    "headers_13_15 = headers + [\"Year\"]"
   ]
  },
  {
   "cell_type": "code",
   "execution_count": 292,
   "metadata": {},
   "outputs": [],
   "source": [
    "attend_df_13_15.columns = headers_13_15\n",
    "attend_df_13_15 = attend_df_13_15.reset_index()\n",
    "attend_df_13_15 = attend_df_13_15.set_index('Org Code')\n",
    "attend_df_13_15.to_csv(\"student_attendance_2013_2015.csv\")"
   ]
  },
  {
   "cell_type": "code",
   "execution_count": 303,
   "metadata": {
    "collapsed": true
   },
   "outputs": [],
   "source": [
    "attendance_2010 = get_school_attendance_indicators(2010)"
   ]
  },
  {
   "cell_type": "code",
   "execution_count": null,
   "metadata": {},
   "outputs": [],
   "source": [
    "attendance_2011 = get_school_attendance_indicators(2011)"
   ]
  },
  {
   "cell_type": "code",
   "execution_count": 272,
   "metadata": {
    "collapsed": true
   },
   "outputs": [],
   "source": [
    "attendance_2012 = get_school_attendance_indicators(2012)"
   ]
  },
  {
   "cell_type": "code",
   "execution_count": 355,
   "metadata": {},
   "outputs": [],
   "source": [
    "sch = 'http://profiles.doe.mass.edu/profiles/student.aspx?orgcode=00100055&orgtypecode=6&leftNavId=303&fycode=2012'\n",
    "headers = pd.read_html(sch)\n",
    "headers = list(headers[1][0])\n",
    "headers[0] = \"Org Code\"\n",
    "headers_10_12 = headers + [\"Year\"]"
   ]
  },
  {
   "cell_type": "code",
   "execution_count": null,
   "metadata": {},
   "outputs": [],
   "source": [
    "attend_10_12 = attendance_2012 + attendance_2010\n",
    "attend_df_10_12 = pd.concat(attend_10_12)\n",
    "attend_df_10_12.columns = headers_10_12\n",
    "\n",
    "attend_df_10_12"
   ]
  },
  {
   "cell_type": "code",
   "execution_count": 370,
   "metadata": {},
   "outputs": [],
   "source": [
    "headers_11 = headers_10_12[0:9]\n",
    "headers_11[7] = \"Year\""
   ]
  },
  {
   "cell_type": "code",
   "execution_count": 371,
   "metadata": {},
   "outputs": [],
   "source": [
    "attend_df_11 = pd.concat(attendance_2011)\n",
    "attend_df_11.columns = headers_11"
   ]
  },
  {
   "cell_type": "code",
   "execution_count": 373,
   "metadata": {},
   "outputs": [
    {
     "data": {
      "text/plain": [
       "Index(['Org Code', 'Attendance Rate', 'Average # of days absent',\n",
       "       'Absent 10 or more days', 'Chronically Absent (10% or more)',\n",
       "       'In-School Suspension Rate', 'Out-of-School Suspension Rate', 'Year',\n",
       "       'Retention Rate'],\n",
       "      dtype='object')"
      ]
     },
     "execution_count": 373,
     "metadata": {},
     "output_type": "execute_result"
    }
   ],
   "source": [
    "attend_df_11.columns"
   ]
  },
  {
   "cell_type": "code",
   "execution_count": null,
   "metadata": {},
   "outputs": [],
   "source": [
    "# Select columns while 2011 gets sorted out\n",
    "attend_df_11_cut = attend_df_11[['Org Code', 'Attendance Rate', \"Average # of days absent\", \"Absent 10 or more days\", \"Chronically Absent (10% or more)\", \"Year\", \"Retention Rate\"]]\n",
    "attend_df_10_12_cut = attend_df_10_12[['Org Code', 'Attendance Rate', \"Average # of days absent\", \"Absent 10 or more days\", \"Chronically Absent (10% or more)\", \"Year\", \"Retention Rate\"]]\n",
    "attend_df_13_15 = attend_df_13_15.reset_index()\n",
    "attend_df_13_15_cut = attend_df_13_15[['Org Code', 'Attendance Rate', \"Average # of days absent\", \"Absent 10 or more days\", \"Chronically Absent (10% or more)\", \"Year\", \"Retention Rate\"]]"
   ]
  },
  {
   "cell_type": "code",
   "execution_count": 384,
   "metadata": {},
   "outputs": [],
   "source": [
    "attendance_all = pd.concat([attend_df_11_cut, attend_df_10_12_cut, attend_df_13_15_cut])"
   ]
  },
  {
   "cell_type": "code",
   "execution_count": 385,
   "metadata": {},
   "outputs": [],
   "source": [
    "attendance_all\n",
    "attendance_all.reset_index()\n",
    "attendance_all = attendance_all.set_index('Org Code')\n",
    "attendance_all.to_csv(\"student_attendance_all.csv\")"
   ]
  }
 ],
 "metadata": {
  "kernelspec": {
   "display_name": "Python 3",
   "language": "python",
   "name": "python3"
  },
  "language_info": {
   "codemirror_mode": {
    "name": "ipython",
    "version": 3
   },
   "file_extension": ".py",
   "mimetype": "text/x-python",
   "name": "python",
   "nbconvert_exporter": "python",
   "pygments_lexer": "ipython3",
   "version": "3.6.1"
  }
 },
 "nbformat": 4,
 "nbformat_minor": 2
}
