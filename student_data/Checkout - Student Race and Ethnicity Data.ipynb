{
 "cells": [
  {
   "cell_type": "code",
   "execution_count": 2,
   "metadata": {
    "collapsed": true
   },
   "outputs": [],
   "source": [
    "import pandas as pd\n",
    "import requests\n",
    "from bs4 import BeautifulSoup as bs\n",
    "import re\n",
    "import glob\n",
    "import os"
   ]
  },
  {
   "cell_type": "code",
   "execution_count": 165,
   "metadata": {},
   "outputs": [
    {
     "name": "stdout",
     "output_type": "stream",
     "text": [
      "http://profiles.doe.mass.edu/state_report/enrollmentbyracegender.aspx?mode=school&year=2017&Continue=View+Report&export_excel=yes\n"
     ]
    }
   ],
   "source": [
    "years = [2010, 2011, 2012, 2013, 2014, 2015, 2016, 2017]\n",
    "\n",
    "for year in years:\n",
    "    base = 'http://profiles.doe.mass.edu/state_report/enrollmentbyracegender.aspx?mode=school&year={}&Continue=View+Report&export_excel=yes'\n",
    "    base = base.format(year)\n",
    "    print(base)\n",
    "    filename = \"student_\"+\"raceeth_\"+str(year)+\".xls\"\n",
    "    with open(filename, 'w') as output:\n",
    "        output.write(requests.get(base).text)"
   ]
  },
  {
   "cell_type": "code",
   "execution_count": null,
   "metadata": {
    "collapsed": true
   },
   "outputs": [],
   "source": [
    "## Create function to clean up DFs"
   ]
  },
  {
   "cell_type": "code",
   "execution_count": 16,
   "metadata": {
    "collapsed": true
   },
   "outputs": [],
   "source": [
    "def clean_file(file):\n",
    "    df = pd.read_html(file)\n",
    "    df = pd.DataFrame(df[0])\n",
    "    header = df.iloc[0]\n",
    "    df.columns = header\n",
    "    df = df[1:]\n",
    "    file_name = os.path.splitext(file)[0]\n",
    "    df[\"Source\"] = file_name\n",
    "    df['Year'] = df[\"Source\"].str[-4:]\n",
    "    return df"
   ]
  },
  {
   "cell_type": "code",
   "execution_count": null,
   "metadata": {
    "collapsed": true
   },
   "outputs": [],
   "source": [
    "# Create master CSV"
   ]
  },
  {
   "cell_type": "code",
   "execution_count": 17,
   "metadata": {
    "collapsed": true
   },
   "outputs": [],
   "source": [
    "all_files = glob.glob(\"student_raceeth_201[0-5].xls\")\n",
    "df_list = []\n",
    "\n",
    "for file in all_files:\n",
    "    file = clean_file(file)\n",
    "    df_list.append(file)\n",
    "    \n",
    "df = pd.concat(df_list)"
   ]
  },
  {
   "cell_type": "code",
   "execution_count": null,
   "metadata": {},
   "outputs": [],
   "source": [
    "df = df.rename(columns={'ORG CODE': 'Org Code'})\n",
    "df"
   ]
  },
  {
   "cell_type": "code",
   "execution_count": null,
   "metadata": {
    "collapsed": true
   },
   "outputs": [],
   "source": [
    "# Test out mask"
   ]
  },
  {
   "cell_type": "code",
   "execution_count": null,
   "metadata": {},
   "outputs": [],
   "source": [
    "mask = df[\"Org Code\"] == \"04450105\"\n",
    "df_abbyk = df[mask]\n",
    "\n",
    "df_abbyk"
   ]
  },
  {
   "cell_type": "code",
   "execution_count": null,
   "metadata": {
    "collapsed": true
   },
   "outputs": [],
   "source": [
    "# Set ORG CODE as index and write master file to CSV"
   ]
  },
  {
   "cell_type": "code",
   "execution_count": 20,
   "metadata": {
    "collapsed": true
   },
   "outputs": [],
   "source": [
    "df = df.set_index('Org Code')\n",
    "df.to_csv(\"student_raceeth_all.csv\")"
   ]
  }
 ],
 "metadata": {
  "kernelspec": {
   "display_name": "Python 3",
   "language": "python",
   "name": "python3"
  },
  "language_info": {
   "codemirror_mode": {
    "name": "ipython",
    "version": 3
   },
   "file_extension": ".py",
   "mimetype": "text/x-python",
   "name": "python",
   "nbconvert_exporter": "python",
   "pygments_lexer": "ipython3",
   "version": "3.6.1"
  }
 },
 "nbformat": 4,
 "nbformat_minor": 2
}
