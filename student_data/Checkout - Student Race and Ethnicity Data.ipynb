{
 "cells": [
  {
   "cell_type": "markdown",
   "metadata": {},
   "source": [
    "Goal: Download student race and ethnicity data for all schools from past years and create one master CSV called student_raceeth_all."
   ]
  },
  {
   "cell_type": "code",
   "execution_count": 2,
   "metadata": {
    "collapsed": true
   },
   "outputs": [],
   "source": [
    "import pandas as pd\n",
    "import requests\n",
    "from bs4 import BeautifulSoup as bs\n",
    "import re\n",
    "import glob\n",
    "import os"
   ]
  },
  {
   "cell_type": "markdown",
   "metadata": {},
   "source": [
    "The export button on the student race/ethnicity report page shows where to specify the year parameter, so we wrote a loop to download the last 7 years' worth of data and save the reports as .xls files (this is the file extension that the state uses). We did not commit the .xls files to Github."
   ]
  },
  {
   "cell_type": "code",
   "execution_count": null,
   "metadata": {
    "collapsed": true
   },
   "outputs": [],
   "source": [
    "years = [2010, 2011, 2012, 2013, 2014, 2015, 2016, 2017]\n",
    "\n",
    "for year in years:\n",
    "    base = 'http://profiles.doe.mass.edu/state_report/enrollmentbyracegender.aspx?mode=school&year={}&Continue=View+Report&export_excel=yes'\n",
    "    base = base.format(year)\n",
    "    print(base)\n",
    "    filename = \"student_\"+\"raceeth_\"+str(year)+\".xls\"\n",
    "    with open(filename, 'w') as output:\n",
    "        output.write(requests.get(base).text)"
   ]
  },
  {
   "cell_type": "markdown",
   "metadata": {
    "collapsed": true
   },
   "source": [
    "The .xls files had html elements in them, so we wrote a function that would read each file in as html and convert it to a DataFrame."
   ]
  },
  {
   "cell_type": "code",
   "execution_count": 16,
   "metadata": {
    "collapsed": true
   },
   "outputs": [],
   "source": [
    "def clean_file(file):\n",
    "    df = pd.read_html(file)\n",
    "    df = pd.DataFrame(df[0])\n",
    "    header = df.iloc[0]\n",
    "    df.columns = header\n",
    "    df = df[1:]\n",
    "    file_name = os.path.splitext(file)[0]\n",
    "    df[\"Source\"] = file_name\n",
    "    df['Year'] = df[\"Source\"].str[-4:]\n",
    "    return df"
   ]
  },
  {
   "cell_type": "markdown",
   "metadata": {
    "collapsed": true
   },
   "source": [
    "We only focused on data between 2010-2015, so we wrote a loop to clean those files and add them to a master data frame."
   ]
  },
  {
   "cell_type": "code",
   "execution_count": 17,
   "metadata": {
    "collapsed": true
   },
   "outputs": [],
   "source": [
    "all_files = glob.glob(\"student_raceeth_201[0-5].xls\")\n",
    "df_list = []\n",
    "\n",
    "for file in all_files:\n",
    "    file = clean_file(file)\n",
    "    df_list.append(file)\n",
    "    \n",
    "df = pd.concat(df_list)"
   ]
  },
  {
   "cell_type": "markdown",
   "metadata": {
    "collapsed": true
   },
   "source": [
    "We set the index to \"Org Code\" to match the other school data files before writing to a CSV."
   ]
  },
  {
   "cell_type": "code",
   "execution_count": null,
   "metadata": {
    "collapsed": true
   },
   "outputs": [],
   "source": [
    "df = df.rename(columns={'ORG CODE': 'Org Code'})\n",
    "df = df.set_index('Org Code')\n",
    "df.to_csv(\"student_raceeth_all.csv\")"
   ]
  }
 ],
 "metadata": {
  "kernelspec": {
   "display_name": "Python 3",
   "language": "python",
   "name": "python3"
  },
  "language_info": {
   "codemirror_mode": {
    "name": "ipython",
    "version": 3
   },
   "file_extension": ".py",
   "mimetype": "text/x-python",
   "name": "python",
   "nbconvert_exporter": "python",
   "pygments_lexer": "ipython3",
   "version": "3.6.1"
  }
 },
 "nbformat": 4,
 "nbformat_minor": 2
}
