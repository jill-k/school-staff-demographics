{
 "cells": [
  {
   "cell_type": "code",
   "execution_count": 61,
   "metadata": {},
   "outputs": [],
   "source": [
    "import pandas as pd\n",
    "import requests\n",
    "from bs4 import BeautifulSoup as bs\n",
    "import re\n",
    "import os\n",
    "import glob\n",
    "import matplotlib.pyplot as plt\n",
    "import seaborn as sns\n",
    "%matplotlib inline\n",
    "import numpy as np\n",
    "from scipy import stats\n",
    "import statsmodels.api as sm\n",
    "import statsmodels.formula.api as smf"
   ]
  },
  {
   "cell_type": "code",
   "execution_count": 3,
   "metadata": {
    "collapsed": true
   },
   "outputs": [],
   "source": [
    "staff = pd.read_csv(\"../staff_data/staff_raceeth_jobcategories_2010_2015.csv\")\n",
    "students = pd.read_csv(\"../student_data/student_raceeth_all.csv\")\n",
    "enrollment = pd.read_csv(\"../student_data/student_enrollment_all.csv\", usecols = [\"Org Code\", \"Year\", \"TOTAL\"])\n",
    "addresses = pd.read_csv(\"../student_data/school_addresses.csv\", encoding = \"ISO-8859-1\", converters={'Zip Code': str}, usecols = [\"Org Code\", \"Org Name\", \"Org Type\", \"Town\", \"Zip Code\", \"Grades\"])\n",
    "acs = pd.read_csv(\"../acs/acs_indicators_by_zip.csv\", converters={'Zip Code': str}, usecols = [\"Zip Code\", \"Median Income\", \"Percent Poverty\", \"% HS Graduates\", \"% College Graduates\"])"
   ]
  },
  {
   "cell_type": "code",
   "execution_count": 5,
   "metadata": {
    "collapsed": true
   },
   "outputs": [],
   "source": [
    "# Remove \"-\"\n",
    "acs = acs.replace('-', np.NaN)"
   ]
  },
  {
   "cell_type": "code",
   "execution_count": 6,
   "metadata": {},
   "outputs": [
    {
     "data": {
      "text/plain": [
       "Index(['Org Code', 'SCHOOL', 'African American', 'Asian', 'Hispanic', 'White',\n",
       "       'Native American', 'Native Hawaiian, Pacific Islander',\n",
       "       'Multi-Race, Non-Hispanic', 'Males', 'Females', 'Source', 'Year'],\n",
       "      dtype='object')"
      ]
     },
     "execution_count": 6,
     "metadata": {},
     "output_type": "execute_result"
    }
   ],
   "source": [
    "students.columns"
   ]
  },
  {
   "cell_type": "code",
   "execution_count": 7,
   "metadata": {
    "collapsed": true
   },
   "outputs": [],
   "source": [
    "acs[\"Median Income\"] = acs[\"Median Income\"].apply(pd.to_numeric, errors='coerce')\n",
    "acs[\"Percent Poverty\"] = acs[\"Percent Poverty\"].apply(pd.to_numeric, errors='coerce')"
   ]
  },
  {
   "cell_type": "code",
   "execution_count": null,
   "metadata": {
    "collapsed": true
   },
   "outputs": [],
   "source": [
    "# Calculate student numbers and staff percents"
   ]
  },
  {
   "cell_type": "code",
   "execution_count": 8,
   "metadata": {
    "collapsed": true
   },
   "outputs": [],
   "source": [
    "enrollment = enrollment.rename(columns={\"TOTAL\": \"Total Students\"})"
   ]
  },
  {
   "cell_type": "code",
   "execution_count": 9,
   "metadata": {
    "collapsed": true
   },
   "outputs": [],
   "source": [
    "students = pd.merge(students, enrollment, on = [\"Org Code\", \"Year\"])"
   ]
  },
  {
   "cell_type": "code",
   "execution_count": 10,
   "metadata": {
    "collapsed": true
   },
   "outputs": [],
   "source": [
    "students['Nonwhite (Num Stu)'] = students[\"Total Students\"] - (round(students['White']/100 * students['Total Students'], 0))"
   ]
  },
  {
   "cell_type": "code",
   "execution_count": 11,
   "metadata": {
    "collapsed": true
   },
   "outputs": [],
   "source": [
    "staff['Nonwhite (Num Staff)'] = staff[\"FTE Count\"] - staff[\"White (# )\"]"
   ]
  },
  {
   "cell_type": "code",
   "execution_count": 12,
   "metadata": {},
   "outputs": [
    {
     "data": {
      "text/plain": [
       "Index(['Org Code', 'Job Group', 'Year', 'SCHOOL', 'African American (# )',\n",
       "       'Asian (# )', 'Hispanic (# )', 'White (# )', 'FTE Count', 'Other (# )',\n",
       "       'Job Category', 'Nonwhite (Num Staff)'],\n",
       "      dtype='object')"
      ]
     },
     "execution_count": 12,
     "metadata": {},
     "output_type": "execute_result"
    }
   ],
   "source": [
    "staff.columns"
   ]
  },
  {
   "cell_type": "code",
   "execution_count": 13,
   "metadata": {
    "collapsed": true
   },
   "outputs": [],
   "source": [
    "df = pd.merge(students, staff, how= \"left\", on= ['Org Code','Year'])"
   ]
  },
  {
   "cell_type": "code",
   "execution_count": 14,
   "metadata": {},
   "outputs": [
    {
     "data": {
      "text/plain": [
       "Index(['Org Code', 'SCHOOL_x', 'African American', 'Asian', 'Hispanic',\n",
       "       'White', 'Native American', 'Native Hawaiian, Pacific Islander',\n",
       "       'Multi-Race, Non-Hispanic', 'Males', 'Females', 'Source', 'Year',\n",
       "       'Total Students', 'Nonwhite (Num Stu)', 'Job Group', 'SCHOOL_y',\n",
       "       'African American (# )', 'Asian (# )', 'Hispanic (# )', 'White (# )',\n",
       "       'FTE Count', 'Other (# )', 'Job Category', 'Nonwhite (Num Staff)'],\n",
       "      dtype='object')"
      ]
     },
     "execution_count": 14,
     "metadata": {},
     "output_type": "execute_result"
    }
   ],
   "source": [
    "df.columns"
   ]
  },
  {
   "cell_type": "code",
   "execution_count": 15,
   "metadata": {
    "collapsed": true
   },
   "outputs": [],
   "source": [
    "df = df[[\"Org Code\", \"Year\", \"Job Category\", \"Nonwhite (Num Stu)\", \"Total Students\", \"Nonwhite (Num Staff)\", \"FTE Count\"]]"
   ]
  },
  {
   "cell_type": "code",
   "execution_count": 38,
   "metadata": {},
   "outputs": [],
   "source": [
    "df_job_mask = df[\"Org Code\"] == 0\n",
    "df_jobs = df[~df_job_mask]"
   ]
  },
  {
   "cell_type": "code",
   "execution_count": 47,
   "metadata": {},
   "outputs": [],
   "source": [
    "df_jobs_grouped = df_jobs.groupby(\"Job Category\").sum()[[\"Nonwhite (Num Staff)\", \"FTE Count\"]]"
   ]
  },
  {
   "cell_type": "code",
   "execution_count": 49,
   "metadata": {},
   "outputs": [],
   "source": [
    "df_jobs_grouped[\"% Nonwhite Staff\"] = round(df_jobs_grouped[\"Nonwhite (Num Staff)\"] / df_jobs_grouped[\"FTE Count\"] * 100, 1)"
   ]
  },
  {
   "cell_type": "code",
   "execution_count": 50,
   "metadata": {},
   "outputs": [
    {
     "data": {
      "text/html": [
       "<div>\n",
       "<style>\n",
       "    .dataframe thead tr:only-child th {\n",
       "        text-align: right;\n",
       "    }\n",
       "\n",
       "    .dataframe thead th {\n",
       "        text-align: left;\n",
       "    }\n",
       "\n",
       "    .dataframe tbody tr th {\n",
       "        vertical-align: top;\n",
       "    }\n",
       "</style>\n",
       "<table border=\"1\" class=\"dataframe\">\n",
       "  <thead>\n",
       "    <tr style=\"text-align: right;\">\n",
       "      <th></th>\n",
       "      <th>Nonwhite (Num Staff)</th>\n",
       "      <th>FTE Count</th>\n",
       "      <th>% Nonwhite Staff</th>\n",
       "    </tr>\n",
       "    <tr>\n",
       "      <th>Job Category</th>\n",
       "      <th></th>\n",
       "      <th></th>\n",
       "      <th></th>\n",
       "    </tr>\n",
       "  </thead>\n",
       "  <tbody>\n",
       "    <tr>\n",
       "      <th>Administrative Support</th>\n",
       "      <td>3441.8</td>\n",
       "      <td>34812.7</td>\n",
       "      <td>9.9</td>\n",
       "    </tr>\n",
       "    <tr>\n",
       "      <th>All Staff</th>\n",
       "      <td>57309.0</td>\n",
       "      <td>700509.3</td>\n",
       "      <td>8.2</td>\n",
       "    </tr>\n",
       "    <tr>\n",
       "      <th>District Leaders</th>\n",
       "      <td>162.8</td>\n",
       "      <td>2183.4</td>\n",
       "      <td>7.5</td>\n",
       "    </tr>\n",
       "    <tr>\n",
       "      <th>Health</th>\n",
       "      <td>551.5</td>\n",
       "      <td>11358.7</td>\n",
       "      <td>4.9</td>\n",
       "    </tr>\n",
       "    <tr>\n",
       "      <th>Paraprofessionals</th>\n",
       "      <td>16515.2</td>\n",
       "      <td>138875.7</td>\n",
       "      <td>11.9</td>\n",
       "    </tr>\n",
       "    <tr>\n",
       "      <th>Related Service Providers</th>\n",
       "      <td>727.6</td>\n",
       "      <td>19963.2</td>\n",
       "      <td>3.6</td>\n",
       "    </tr>\n",
       "    <tr>\n",
       "      <th>School Leaders</th>\n",
       "      <td>2946.0</td>\n",
       "      <td>26338.1</td>\n",
       "      <td>11.2</td>\n",
       "    </tr>\n",
       "    <tr>\n",
       "      <th>Student Support</th>\n",
       "      <td>3280.6</td>\n",
       "      <td>38792.9</td>\n",
       "      <td>8.5</td>\n",
       "    </tr>\n",
       "    <tr>\n",
       "      <th>Teachers</th>\n",
       "      <td>29692.8</td>\n",
       "      <td>428439.0</td>\n",
       "      <td>6.9</td>\n",
       "    </tr>\n",
       "  </tbody>\n",
       "</table>\n",
       "</div>"
      ],
      "text/plain": [
       "                           Nonwhite (Num Staff)  FTE Count  % Nonwhite Staff\n",
       "Job Category                                                                \n",
       "Administrative Support                   3441.8    34812.7               9.9\n",
       "All Staff                               57309.0   700509.3               8.2\n",
       "District Leaders                          162.8     2183.4               7.5\n",
       "Health                                    551.5    11358.7               4.9\n",
       "Paraprofessionals                       16515.2   138875.7              11.9\n",
       "Related Service Providers                 727.6    19963.2               3.6\n",
       "School Leaders                           2946.0    26338.1              11.2\n",
       "Student Support                          3280.6    38792.9               8.5\n",
       "Teachers                                29692.8   428439.0               6.9"
      ]
     },
     "execution_count": 50,
     "metadata": {},
     "output_type": "execute_result"
    }
   ],
   "source": [
    "df_jobs_grouped"
   ]
  },
  {
   "cell_type": "code",
   "execution_count": 62,
   "metadata": {},
   "outputs": [
    {
     "data": {
      "image/png": "[encoded data removed]",
      "text/plain": [
       "<matplotlib.figure.Figure at 0x186a3e153c8>"
      ]
     },
     "metadata": {},
     "output_type": "display_data"
    }
   ],
   "source": [
    "job = df_jobs_grouped[\"% Nonwhite Staff\"].sort_values(ascending = False).plot(kind = \"bar\", figsize = (15, 3))"
   ]
  },
  {
   "cell_type": "code",
   "execution_count": 17,
   "metadata": {
    "collapsed": true
   },
   "outputs": [],
   "source": [
    "staff_mask = df[\"Job Category\"] == \"All Staff\"\n",
    "df_staff = df[staff_mask]"
   ]
  },
  {
   "cell_type": "code",
   "execution_count": 18,
   "metadata": {
    "collapsed": true
   },
   "outputs": [],
   "source": [
    "df_zip = pd.merge(df_staff, addresses, how = \"inner\", on = \"Org Code\")\n",
    "df_zip = df_zip.fillna(0)"
   ]
  },
  {
   "cell_type": "code",
   "execution_count": 19,
   "metadata": {
    "collapsed": true
   },
   "outputs": [],
   "source": [
    "zip_grouped = df_zip.groupby(\"Zip Code\").sum()[[\"Nonwhite (Num Stu)\", \"Total Students\", \"Nonwhite (Num Staff)\", \"FTE Count\"]]"
   ]
  },
  {
   "cell_type": "code",
   "execution_count": 20,
   "metadata": {
    "collapsed": true
   },
   "outputs": [],
   "source": [
    "zip_grouped['Perc Nonwhite Students'] = zip_grouped['Nonwhite (Num Stu)'] / zip_grouped['Total Students'] * 100\n",
    "zip_grouped['Perc Nonwhite Staff'] = zip_grouped['Nonwhite (Num Staff)'] / zip_grouped['FTE Count'] * 100"
   ]
  },
  {
   "cell_type": "code",
   "execution_count": 21,
   "metadata": {
    "collapsed": true
   },
   "outputs": [],
   "source": [
    "zip_grouped = zip_grouped.reset_index()"
   ]
  },
  {
   "cell_type": "code",
   "execution_count": 22,
   "metadata": {
    "collapsed": true
   },
   "outputs": [],
   "source": [
    "df_zip = pd.merge(zip_grouped, acs, how = \"inner\", on = \"Zip Code\")"
   ]
  },
  {
   "cell_type": "code",
   "execution_count": 23,
   "metadata": {},
   "outputs": [
    {
     "data": {
      "text/plain": [
       "Index(['Zip Code', 'Nonwhite (Num Stu)', 'Total Students',\n",
       "       'Nonwhite (Num Staff)', 'FTE Count', 'Perc Nonwhite Students',\n",
       "       'Perc Nonwhite Staff', 'Median Income', 'Percent Poverty',\n",
       "       '% HS Graduates', '% College Graduates'],\n",
       "      dtype='object')"
      ]
     },
     "execution_count": 23,
     "metadata": {},
     "output_type": "execute_result"
    }
   ],
   "source": [
    "df_zip.columns"
   ]
  },
  {
   "cell_type": "code",
   "execution_count": 24,
   "metadata": {},
   "outputs": [
    {
     "data": {
      "image/png": "[encoded data removed]",
      "text/plain": [
       "<matplotlib.figure.Figure at 0x1869ae1d898>"
      ]
     },
     "metadata": {},
     "output_type": "display_data"
    }
   ],
   "source": [
    "sns.regplot(x = \"Perc Nonwhite Students\", y = \"Perc Nonwhite Staff\", data = df_zip, color=\"green\", scatter_kws = {\"alpha\" : 0.1,});"
   ]
  },
  {
   "cell_type": "code",
   "execution_count": 25,
   "metadata": {},
   "outputs": [
    {
     "data": {
      "text/html": [
       "<table class=\"simpletable\">\n",
       "<caption>OLS Regression Results</caption>\n",
       "<tr>\n",
       "  <th>Dep. Variable:</th>      <td>perc_nw_staff</td>  <th>  R-squared:         </th> <td>   0.702</td> \n",
       "</tr>\n",
       "<tr>\n",
       "  <th>Model:</th>                   <td>OLS</td>       <th>  Adj. R-squared:    </th> <td>   0.699</td> \n",
       "</tr>\n",
       "<tr>\n",
       "  <th>Method:</th>             <td>Least Squares</td>  <th>  F-statistic:       </th> <td>   196.2</td> \n",
       "</tr>\n",
       "<tr>\n",
       "  <th>Date:</th>             <td>Mon, 27 Nov 2017</td> <th>  Prob (F-statistic):</th> <td>5.12e-107</td>\n",
       "</tr>\n",
       "<tr>\n",
       "  <th>Time:</th>                 <td>15:02:41</td>     <th>  Log-Likelihood:    </th> <td> -1327.4</td> \n",
       "</tr>\n",
       "<tr>\n",
       "  <th>No. Observations:</th>      <td>   422</td>      <th>  AIC:               </th> <td>   2667.</td> \n",
       "</tr>\n",
       "<tr>\n",
       "  <th>Df Residuals:</th>          <td>   416</td>      <th>  BIC:               </th> <td>   2691.</td> \n",
       "</tr>\n",
       "<tr>\n",
       "  <th>Df Model:</th>              <td>     5</td>      <th>                     </th>     <td> </td>    \n",
       "</tr>\n",
       "<tr>\n",
       "  <th>Covariance Type:</th>      <td>nonrobust</td>    <th>                     </th>     <td> </td>    \n",
       "</tr>\n",
       "</table>\n",
       "<table class=\"simpletable\">\n",
       "<tr>\n",
       "        <td></td>          <th>coef</th>     <th>std err</th>      <th>t</th>      <th>P>|t|</th>  <th>[0.025</th>    <th>0.975]</th>  \n",
       "</tr>\n",
       "<tr>\n",
       "  <th>Intercept</th>    <td>  -10.1915</td> <td>    6.950</td> <td>   -1.466</td> <td> 0.143</td> <td>  -23.854</td> <td>    3.471</td>\n",
       "</tr>\n",
       "<tr>\n",
       "  <th>perc_nw_stu</th>  <td>    0.3312</td> <td>    0.017</td> <td>   19.583</td> <td> 0.000</td> <td>    0.298</td> <td>    0.364</td>\n",
       "</tr>\n",
       "<tr>\n",
       "  <th>hs_grad</th>      <td>    0.0690</td> <td>    0.077</td> <td>    0.901</td> <td> 0.368</td> <td>   -0.081</td> <td>    0.219</td>\n",
       "</tr>\n",
       "<tr>\n",
       "  <th>med_income</th>   <td>-2.532e-05</td> <td> 1.73e-05</td> <td>   -1.464</td> <td> 0.144</td> <td>-5.93e-05</td> <td> 8.68e-06</td>\n",
       "</tr>\n",
       "<tr>\n",
       "  <th>college_grad</th> <td>    0.0729</td> <td>    0.030</td> <td>    2.450</td> <td> 0.015</td> <td>    0.014</td> <td>    0.131</td>\n",
       "</tr>\n",
       "<tr>\n",
       "  <th>perc_poverty</th> <td>    0.0411</td> <td>    0.040</td> <td>    1.016</td> <td> 0.310</td> <td>   -0.038</td> <td>    0.121</td>\n",
       "</tr>\n",
       "</table>\n",
       "<table class=\"simpletable\">\n",
       "<tr>\n",
       "  <th>Omnibus:</th>       <td>225.107</td> <th>  Durbin-Watson:     </th> <td>   0.823</td>\n",
       "</tr>\n",
       "<tr>\n",
       "  <th>Prob(Omnibus):</th> <td> 0.000</td>  <th>  Jarque-Bera (JB):  </th> <td>2174.104</td>\n",
       "</tr>\n",
       "<tr>\n",
       "  <th>Skew:</th>          <td> 2.081</td>  <th>  Prob(JB):          </th> <td>    0.00</td>\n",
       "</tr>\n",
       "<tr>\n",
       "  <th>Kurtosis:</th>      <td>13.311</td>  <th>  Cond. No.          </th> <td>2.10e+06</td>\n",
       "</tr>\n",
       "</table>"
      ],
      "text/plain": [
       "<class 'statsmodels.iolib.summary.Summary'>\n",
       "\"\"\"\n",
       "                            OLS Regression Results                            \n",
       "==============================================================================\n",
       "Dep. Variable:          perc_nw_staff   R-squared:                       0.702\n",
       "Model:                            OLS   Adj. R-squared:                  0.699\n",
       "Method:                 Least Squares   F-statistic:                     196.2\n",
       "Date:                Mon, 27 Nov 2017   Prob (F-statistic):          5.12e-107\n",
       "Time:                        15:02:41   Log-Likelihood:                -1327.4\n",
       "No. Observations:                 422   AIC:                             2667.\n",
       "Df Residuals:                     416   BIC:                             2691.\n",
       "Df Model:                           5                                         \n",
       "Covariance Type:            nonrobust                                         \n",
       "================================================================================\n",
       "                   coef    std err          t      P>|t|      [0.025      0.975]\n",
       "--------------------------------------------------------------------------------\n",
       "Intercept      -10.1915      6.950     -1.466      0.143     -23.854       3.471\n",
       "perc_nw_stu      0.3312      0.017     19.583      0.000       0.298       0.364\n",
       "hs_grad          0.0690      0.077      0.901      0.368      -0.081       0.219\n",
       "med_income   -2.532e-05   1.73e-05     -1.464      0.144   -5.93e-05    8.68e-06\n",
       "college_grad     0.0729      0.030      2.450      0.015       0.014       0.131\n",
       "perc_poverty     0.0411      0.040      1.016      0.310      -0.038       0.121\n",
       "==============================================================================\n",
       "Omnibus:                      225.107   Durbin-Watson:                   0.823\n",
       "Prob(Omnibus):                  0.000   Jarque-Bera (JB):             2174.104\n",
       "Skew:                           2.081   Prob(JB):                         0.00\n",
       "Kurtosis:                      13.311   Cond. No.                     2.10e+06\n",
       "==============================================================================\n",
       "\n",
       "Warnings:\n",
       "[1] Standard Errors assume that the covariance matrix of the errors is correctly specified.\n",
       "[2] The condition number is large, 2.1e+06. This might indicate that there are\n",
       "strong multicollinearity or other numerical problems.\n",
       "\"\"\""
      ]
     },
     "execution_count": 25,
     "metadata": {},
     "output_type": "execute_result"
    }
   ],
   "source": [
    "ols = smf.ols(formula = \"perc_nw_staff ~ perc_nw_stu + hs_grad + med_income + college_grad + perc_poverty\",\n",
    "              data = df_zip.rename(columns = {\"Perc Nonwhite Students\" : \"perc_nw_stu\", \n",
    "                                              \"Perc Nonwhite Staff\"  : \"perc_nw_staff\",\n",
    "                                              \"Median Income\": \"med_income\",\n",
    "                                              \"Percent Poverty\": \"perc_poverty\",\n",
    "                                              \"% HS Graduates\": \"hs_grad\",\n",
    "                                             \"% College Graduates\": \"college_grad\" }))\n",
    "model = ols.fit()\n",
    "model.summary()"
   ]
  },
  {
   "cell_type": "code",
   "execution_count": null,
   "metadata": {},
   "outputs": [],
   "source": [
    "sns.regplot(x = df_zip[\"Perc Nonwhite Students\"], y = pd.Series(model.resid, name = \"Residual\"), scatter_kws = {\"alpha\" : 0.1});"
   ]
  },
  {
   "cell_type": "code",
   "execution_count": 60,
   "metadata": {},
   "outputs": [
    {
     "ename": "ValueError",
     "evalue": "No axis named Org Type for object type <class 'pandas.core.frame.DataFrame'>",
     "output_type": "error",
     "traceback": [
      "\u001b[1;31m---------------------------------------------------------------------------\u001b[0m",
      "\u001b[1;31mValueError\u001b[0m                                Traceback (most recent call last)",
      "\u001b[1;32m<ipython-input-60-709cfcf2535e>\u001b[0m in \u001b[0;36m<module>\u001b[1;34m()\u001b[0m\n\u001b[1;32m----> 1\u001b[1;33m \u001b[0myear_grouped\u001b[0m \u001b[1;33m=\u001b[0m \u001b[0mdf_staff\u001b[0m\u001b[1;33m.\u001b[0m\u001b[0mgroupby\u001b[0m\u001b[1;33m(\u001b[0m\u001b[1;34m\"Year\"\u001b[0m\u001b[1;33m,\u001b[0m \u001b[1;34m\"Org Type\"\u001b[0m\u001b[1;33m)\u001b[0m\u001b[1;33m.\u001b[0m\u001b[0msum\u001b[0m\u001b[1;33m(\u001b[0m\u001b[1;33m)\u001b[0m\u001b[1;33m[\u001b[0m\u001b[1;33m[\u001b[0m\u001b[1;34m\"Nonwhite (Num Stu)\"\u001b[0m\u001b[1;33m,\u001b[0m \u001b[1;34m\"Total Students\"\u001b[0m\u001b[1;33m,\u001b[0m \u001b[1;34m\"Nonwhite (Num Staff)\"\u001b[0m\u001b[1;33m,\u001b[0m \u001b[1;34m\"FTE Count\"\u001b[0m\u001b[1;33m]\u001b[0m\u001b[1;33m]\u001b[0m\u001b[1;33m\u001b[0m\u001b[0m\n\u001b[0m",
      "\u001b[1;32mC:\\Users\\jillk\\Anaconda3\\lib\\site-packages\\pandas\\core\\generic.py\u001b[0m in \u001b[0;36mgroupby\u001b[1;34m(self, by, axis, level, as_index, sort, group_keys, squeeze, **kwargs)\u001b[0m\n\u001b[0;32m   4266\u001b[0m         \u001b[1;32mif\u001b[0m \u001b[0mlevel\u001b[0m \u001b[1;32mis\u001b[0m \u001b[1;32mNone\u001b[0m \u001b[1;32mand\u001b[0m \u001b[0mby\u001b[0m \u001b[1;32mis\u001b[0m \u001b[1;32mNone\u001b[0m\u001b[1;33m:\u001b[0m\u001b[1;33m\u001b[0m\u001b[0m\n\u001b[0;32m   4267\u001b[0m             \u001b[1;32mraise\u001b[0m \u001b[0mTypeError\u001b[0m\u001b[1;33m(\u001b[0m\u001b[1;34m\"You have to supply one of 'by' and 'level'\"\u001b[0m\u001b[1;33m)\u001b[0m\u001b[1;33m\u001b[0m\u001b[0m\n\u001b[1;32m-> 4268\u001b[1;33m         \u001b[0maxis\u001b[0m \u001b[1;33m=\u001b[0m \u001b[0mself\u001b[0m\u001b[1;33m.\u001b[0m\u001b[0m_get_axis_number\u001b[0m\u001b[1;33m(\u001b[0m\u001b[0maxis\u001b[0m\u001b[1;33m)\u001b[0m\u001b[1;33m\u001b[0m\u001b[0m\n\u001b[0m\u001b[0;32m   4269\u001b[0m         return groupby(self, by=by, axis=axis, level=level, as_index=as_index,\n\u001b[0;32m   4270\u001b[0m                        \u001b[0msort\u001b[0m\u001b[1;33m=\u001b[0m\u001b[0msort\u001b[0m\u001b[1;33m,\u001b[0m \u001b[0mgroup_keys\u001b[0m\u001b[1;33m=\u001b[0m\u001b[0mgroup_keys\u001b[0m\u001b[1;33m,\u001b[0m \u001b[0msqueeze\u001b[0m\u001b[1;33m=\u001b[0m\u001b[0msqueeze\u001b[0m\u001b[1;33m,\u001b[0m\u001b[1;33m\u001b[0m\u001b[0m\n",
      "\u001b[1;32mC:\\Users\\jillk\\Anaconda3\\lib\\site-packages\\pandas\\core\\generic.py\u001b[0m in \u001b[0;36m_get_axis_number\u001b[1;34m(self, axis)\u001b[0m\n\u001b[0;32m    349\u001b[0m                 \u001b[1;32mpass\u001b[0m\u001b[1;33m\u001b[0m\u001b[0m\n\u001b[0;32m    350\u001b[0m         raise ValueError('No axis named {0} for object type {1}'\n\u001b[1;32m--> 351\u001b[1;33m                          .format(axis, type(self)))\n\u001b[0m\u001b[0;32m    352\u001b[0m \u001b[1;33m\u001b[0m\u001b[0m\n\u001b[0;32m    353\u001b[0m     \u001b[1;32mdef\u001b[0m \u001b[0m_get_axis_name\u001b[0m\u001b[1;33m(\u001b[0m\u001b[0mself\u001b[0m\u001b[1;33m,\u001b[0m \u001b[0maxis\u001b[0m\u001b[1;33m)\u001b[0m\u001b[1;33m:\u001b[0m\u001b[1;33m\u001b[0m\u001b[0m\n",
      "\u001b[1;31mValueError\u001b[0m: No axis named Org Type for object type <class 'pandas.core.frame.DataFrame'>"
     ]
    }
   ],
   "source": [
    "year_grouped = df_staff.groupby(\"Year\").sum()[[\"Nonwhite (Num Stu)\", \"Total Students\", \"Nonwhite (Num Staff)\", \"FTE Count\"]]"
   ]
  },
  {
   "cell_type": "code",
   "execution_count": 34,
   "metadata": {
    "collapsed": true
   },
   "outputs": [],
   "source": [
    "year_grouped['Perc Nonwhite Students'] = year_grouped['Nonwhite (Num Stu)'] / year_grouped['Total Students'] * 100\n",
    "year_grouped['Perc Nonwhite Staff'] = year_grouped['Nonwhite (Num Staff)'] / year_grouped['FTE Count'] * 100"
   ]
  },
  {
   "cell_type": "code",
   "execution_count": 35,
   "metadata": {
    "collapsed": true
   },
   "outputs": [],
   "source": [
    "year_grouped = year_grouped.reset_index()"
   ]
  },
  {
   "cell_type": "code",
   "execution_count": 59,
   "metadata": {},
   "outputs": [
    {
     "data": {
      "text/html": [
       "<div>\n",
       "<style>\n",
       "    .dataframe thead tr:only-child th {\n",
       "        text-align: right;\n",
       "    }\n",
       "\n",
       "    .dataframe thead th {\n",
       "        text-align: left;\n",
       "    }\n",
       "\n",
       "    .dataframe tbody tr th {\n",
       "        vertical-align: top;\n",
       "    }\n",
       "</style>\n",
       "<table border=\"1\" class=\"dataframe\">\n",
       "  <thead>\n",
       "    <tr style=\"text-align: right;\">\n",
       "      <th></th>\n",
       "      <th>Year</th>\n",
       "      <th>Nonwhite (Num Stu)</th>\n",
       "      <th>Total Students</th>\n",
       "      <th>Nonwhite (Num Staff)</th>\n",
       "      <th>FTE Count</th>\n",
       "      <th>Perc Nonwhite Students</th>\n",
       "      <th>Perc Nonwhite Staff</th>\n",
       "    </tr>\n",
       "  </thead>\n",
       "  <tbody>\n",
       "    <tr>\n",
       "      <th>0</th>\n",
       "      <td>2010</td>\n",
       "      <td>295749.0</td>\n",
       "      <td>957053</td>\n",
       "      <td>9377.4</td>\n",
       "      <td>115464.0</td>\n",
       "      <td>30.902050</td>\n",
       "      <td>8.121492</td>\n",
       "    </tr>\n",
       "    <tr>\n",
       "      <th>1</th>\n",
       "      <td>2011</td>\n",
       "      <td>305397.0</td>\n",
       "      <td>955563</td>\n",
       "      <td>9381.1</td>\n",
       "      <td>114390.6</td>\n",
       "      <td>31.959902</td>\n",
       "      <td>8.200936</td>\n",
       "    </tr>\n",
       "    <tr>\n",
       "      <th>2</th>\n",
       "      <td>2012</td>\n",
       "      <td>314257.0</td>\n",
       "      <td>953369</td>\n",
       "      <td>9354.6</td>\n",
       "      <td>115053.3</td>\n",
       "      <td>32.962788</td>\n",
       "      <td>8.130666</td>\n",
       "    </tr>\n",
       "    <tr>\n",
       "      <th>3</th>\n",
       "      <td>2013</td>\n",
       "      <td>324629.0</td>\n",
       "      <td>954771</td>\n",
       "      <td>9775.4</td>\n",
       "      <td>117215.0</td>\n",
       "      <td>34.000718</td>\n",
       "      <td>8.339718</td>\n",
       "    </tr>\n",
       "    <tr>\n",
       "      <th>4</th>\n",
       "      <td>2014</td>\n",
       "      <td>334997.0</td>\n",
       "      <td>955507</td>\n",
       "      <td>9464.7</td>\n",
       "      <td>118299.0</td>\n",
       "      <td>35.059607</td>\n",
       "      <td>8.000659</td>\n",
       "    </tr>\n",
       "    <tr>\n",
       "      <th>5</th>\n",
       "      <td>2015</td>\n",
       "      <td>347382.0</td>\n",
       "      <td>955843</td>\n",
       "      <td>9955.8</td>\n",
       "      <td>120087.4</td>\n",
       "      <td>36.342998</td>\n",
       "      <td>8.290462</td>\n",
       "    </tr>\n",
       "  </tbody>\n",
       "</table>\n",
       "</div>"
      ],
      "text/plain": [
       "   Year  Nonwhite (Num Stu)  Total Students  Nonwhite (Num Staff)  FTE Count  \\\n",
       "0  2010            295749.0          957053                9377.4   115464.0   \n",
       "1  2011            305397.0          955563                9381.1   114390.6   \n",
       "2  2012            314257.0          953369                9354.6   115053.3   \n",
       "3  2013            324629.0          954771                9775.4   117215.0   \n",
       "4  2014            334997.0          955507                9464.7   118299.0   \n",
       "5  2015            347382.0          955843                9955.8   120087.4   \n",
       "\n",
       "   Perc Nonwhite Students  Perc Nonwhite Staff  \n",
       "0               30.902050             8.121492  \n",
       "1               31.959902             8.200936  \n",
       "2               32.962788             8.130666  \n",
       "3               34.000718             8.339718  \n",
       "4               35.059607             8.000659  \n",
       "5               36.342998             8.290462  "
      ]
     },
     "execution_count": 59,
     "metadata": {},
     "output_type": "execute_result"
    }
   ],
   "source": [
    "year_grouped"
   ]
  },
  {
   "cell_type": "code",
   "execution_count": 36,
   "metadata": {},
   "outputs": [
    {
     "data": {
      "text/plain": [
       "(0, 50)"
      ]
     },
     "execution_count": 36,
     "metadata": {},
     "output_type": "execute_result"
    },
    {
     "data": {
      "image/png": "[encoded data removed]",
      "text/plain": [
       "<matplotlib.figure.Figure at 0x186a0bf3940>"
      ]
     },
     "metadata": {},
     "output_type": "display_data"
    }
   ],
   "source": [
    "ax = year_grouped[['Year','Perc Nonwhite Students', 'Perc Nonwhite Staff']].set_index('Year').plot()\n",
    "ax.set_ylim(ymin = 0, ymax = 50)"
   ]
  },
  {
   "cell_type": "code",
   "execution_count": null,
   "metadata": {
    "collapsed": true
   },
   "outputs": [],
   "source": []
  }
 ],
 "metadata": {
  "kernelspec": {
   "display_name": "Python 3",
   "language": "python",
   "name": "python3"
  },
  "language_info": {
   "codemirror_mode": {
    "name": "ipython",
    "version": 3
   },
   "file_extension": ".py",
   "mimetype": "text/x-python",
   "name": "python",
   "nbconvert_exporter": "python",
   "pygments_lexer": "ipython3",
   "version": "3.6.1"
  }
 },
 "nbformat": 4,
 "nbformat_minor": 2
}
