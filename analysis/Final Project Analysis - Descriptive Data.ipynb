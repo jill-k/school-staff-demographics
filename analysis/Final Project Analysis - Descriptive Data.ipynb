{
 "cells": [
  {
   "cell_type": "code",
   "execution_count": 61,
   "metadata": {},
   "outputs": [],
   "source": [
    "import pandas as pd\n",
    "import requests\n",
    "from bs4 import BeautifulSoup as bs\n",
    "import re\n",
    "import os\n",
    "import glob\n",
    "import matplotlib.pyplot as plt\n",
    "import seaborn as sns\n",
    "%matplotlib inline\n",
    "import numpy as np\n",
    "from scipy import stats\n",
    "import statsmodels.api as sm\n",
    "import statsmodels.formula.api as smf"
   ]
  },
  {
   "cell_type": "code",
   "execution_count": 65,
   "metadata": {
    "collapsed": true
   },
   "outputs": [],
   "source": [
    "staff = pd.read_csv(\"../staff_data/staff_raceeth_jobcategories_2010_2015.csv\")\n",
    "students = pd.read_csv(\"../student_data/student_raceeth_all.csv\")\n",
    "enrollment = pd.read_csv(\"../student_data/student_enrollment_all.csv\", usecols = [\"Org Code\", \"Year\", \"TOTAL\"])\n",
    "addresses = pd.read_csv(\"../student_data/school_addresses.csv\", encoding = \"ISO-8859-1\", converters={'Zip Code': str}, usecols = [\"Org Code\", \"Org Name\", \"Org Type\", \"Town\", \"Zip Code\", \"Grades\"])\n",
    "acs = pd.read_csv(\"../acs/acs_indicators_by_zip.csv\", converters={'Zip Code': str}, usecols = [\"Zip Code\", \"Median Income\", \"Percent Poverty\", \"% HS Graduates\", \"% College Graduates\"])"
   ]
  },
  {
   "cell_type": "code",
   "execution_count": 66,
   "metadata": {
    "collapsed": true
   },
   "outputs": [],
   "source": [
    "# Remove \"-\" from ACS and convert to numeric\n",
    "acs = acs.replace('-', np.NaN)\n",
    "acs[\"Median Income\"] = acs[\"Median Income\"].apply(pd.to_numeric, errors='coerce')\n",
    "acs[\"Percent Poverty\"] = acs[\"Percent Poverty\"].apply(pd.to_numeric, errors='coerce')"
   ]
  },
  {
   "cell_type": "markdown",
   "metadata": {
    "collapsed": true
   },
   "source": [
    "Calculate total number of nonwhite students and staff for weighted averages"
   ]
  },
  {
   "cell_type": "code",
   "execution_count": 67,
   "metadata": {},
   "outputs": [],
   "source": [
    "enrollment = enrollment.rename(columns={\"TOTAL\": \"Total Students\"})\n",
    "students = pd.merge(students, enrollment, on = [\"Org Code\", \"Year\"])\n",
    "students['Nonwhite (Num Stu)'] = students[\"Total Students\"] - (round(students['White']/100 * students['Total Students'], 0))\n",
    "staff['Nonwhite (Num Staff)'] = staff[\"FTE Count\"] - staff[\"White (# )\"]"
   ]
  },
  {
   "cell_type": "code",
   "execution_count": 68,
   "metadata": {
    "collapsed": true
   },
   "outputs": [],
   "source": [
    "df = pd.merge(students, staff, how= \"left\", on= ['Org Code','Year'])"
   ]
  },
  {
   "cell_type": "code",
   "execution_count": 80,
   "metadata": {},
   "outputs": [],
   "source": [
    "df = pd.merge(df, addresses, how= \"inner\", on = \"Org Code\")"
   ]
  },
  {
   "cell_type": "code",
   "execution_count": 81,
   "metadata": {
    "collapsed": true
   },
   "outputs": [],
   "source": [
    "## Keep necessary columns\n",
    "df = df[[\"Org Code\", \"Org Type\", \"Year\", \"Job Category\", \"Nonwhite (Num Stu)\", \"Total Students\", \"Nonwhite (Num Staff)\", \"FTE Count\"]]"
   ]
  },
  {
   "cell_type": "code",
   "execution_count": 82,
   "metadata": {},
   "outputs": [],
   "source": [
    "# Remove state totals\n",
    "df_job_mask = df[\"Org Code\"] == 0\n",
    "df_jobs = df[~df_job_mask]"
   ]
  },
  {
   "cell_type": "code",
   "execution_count": 83,
   "metadata": {},
   "outputs": [],
   "source": [
    "df_jobs_grouped = df_jobs.groupby([\"Job Category\", \"Org Type\"]).sum()[[\"Nonwhite (Num Staff)\", \"FTE Count\"]]"
   ]
  },
  {
   "cell_type": "code",
   "execution_count": 84,
   "metadata": {},
   "outputs": [],
   "source": [
    "df_jobs_grouped[\"% Nonwhite Staff\"] = round(df_jobs_grouped[\"Nonwhite (Num Staff)\"] / df_jobs_grouped[\"FTE Count\"] * 100, 1)"
   ]
  },
  {
   "cell_type": "code",
   "execution_count": 87,
   "metadata": {},
   "outputs": [
    {
     "data": {
      "text/html": [
       "<div>\n",
       "<style>\n",
       "    .dataframe thead tr:only-child th {\n",
       "        text-align: right;\n",
       "    }\n",
       "\n",
       "    .dataframe thead th {\n",
       "        text-align: left;\n",
       "    }\n",
       "\n",
       "    .dataframe tbody tr th {\n",
       "        vertical-align: top;\n",
       "    }\n",
       "</style>\n",
       "<table border=\"1\" class=\"dataframe\">\n",
       "  <thead>\n",
       "    <tr style=\"text-align: right;\">\n",
       "      <th></th>\n",
       "      <th>Job Category</th>\n",
       "      <th>Org Type</th>\n",
       "      <th>Nonwhite (Num Staff)</th>\n",
       "      <th>FTE Count</th>\n",
       "      <th>% Nonwhite Staff</th>\n",
       "    </tr>\n",
       "  </thead>\n",
       "  <tbody>\n",
       "    <tr>\n",
       "      <th>0</th>\n",
       "      <td>Administrative Support</td>\n",
       "      <td>Charter School</td>\n",
       "      <td>595.2</td>\n",
       "      <td>1746.0</td>\n",
       "      <td>34.1</td>\n",
       "    </tr>\n",
       "    <tr>\n",
       "      <th>1</th>\n",
       "      <td>Administrative Support</td>\n",
       "      <td>Public School</td>\n",
       "      <td>2598.7</td>\n",
       "      <td>31716.1</td>\n",
       "      <td>8.2</td>\n",
       "    </tr>\n",
       "    <tr>\n",
       "      <th>2</th>\n",
       "      <td>All Staff</td>\n",
       "      <td>Charter School</td>\n",
       "      <td>4576.3</td>\n",
       "      <td>23120.1</td>\n",
       "      <td>19.8</td>\n",
       "    </tr>\n",
       "    <tr>\n",
       "      <th>3</th>\n",
       "      <td>All Staff</td>\n",
       "      <td>Public School</td>\n",
       "      <td>49212.4</td>\n",
       "      <td>649569.0</td>\n",
       "      <td>7.6</td>\n",
       "    </tr>\n",
       "    <tr>\n",
       "      <th>4</th>\n",
       "      <td>District Leaders</td>\n",
       "      <td>Charter School</td>\n",
       "      <td>63.8</td>\n",
       "      <td>341.4</td>\n",
       "      <td>18.7</td>\n",
       "    </tr>\n",
       "    <tr>\n",
       "      <th>5</th>\n",
       "      <td>District Leaders</td>\n",
       "      <td>Public School</td>\n",
       "      <td>90.6</td>\n",
       "      <td>1774.5</td>\n",
       "      <td>5.1</td>\n",
       "    </tr>\n",
       "    <tr>\n",
       "      <th>6</th>\n",
       "      <td>Health</td>\n",
       "      <td>Charter School</td>\n",
       "      <td>61.2</td>\n",
       "      <td>349.0</td>\n",
       "      <td>17.5</td>\n",
       "    </tr>\n",
       "    <tr>\n",
       "      <th>7</th>\n",
       "      <td>Health</td>\n",
       "      <td>Public School</td>\n",
       "      <td>446.4</td>\n",
       "      <td>10491.0</td>\n",
       "      <td>4.3</td>\n",
       "    </tr>\n",
       "    <tr>\n",
       "      <th>8</th>\n",
       "      <td>Paraprofessionals</td>\n",
       "      <td>Charter School</td>\n",
       "      <td>722.7</td>\n",
       "      <td>2518.0</td>\n",
       "      <td>28.7</td>\n",
       "    </tr>\n",
       "    <tr>\n",
       "      <th>9</th>\n",
       "      <td>Paraprofessionals</td>\n",
       "      <td>Public School</td>\n",
       "      <td>14789.5</td>\n",
       "      <td>130270.5</td>\n",
       "      <td>11.4</td>\n",
       "    </tr>\n",
       "    <tr>\n",
       "      <th>10</th>\n",
       "      <td>Related Service Providers</td>\n",
       "      <td>Charter School</td>\n",
       "      <td>38.9</td>\n",
       "      <td>436.0</td>\n",
       "      <td>8.9</td>\n",
       "    </tr>\n",
       "    <tr>\n",
       "      <th>11</th>\n",
       "      <td>Related Service Providers</td>\n",
       "      <td>Public School</td>\n",
       "      <td>639.9</td>\n",
       "      <td>18753.8</td>\n",
       "      <td>3.4</td>\n",
       "    </tr>\n",
       "    <tr>\n",
       "      <th>12</th>\n",
       "      <td>School Leaders</td>\n",
       "      <td>Charter School</td>\n",
       "      <td>330.0</td>\n",
       "      <td>1489.9</td>\n",
       "      <td>22.1</td>\n",
       "    </tr>\n",
       "    <tr>\n",
       "      <th>13</th>\n",
       "      <td>School Leaders</td>\n",
       "      <td>Public School</td>\n",
       "      <td>2386.3</td>\n",
       "      <td>23621.7</td>\n",
       "      <td>10.1</td>\n",
       "    </tr>\n",
       "    <tr>\n",
       "      <th>14</th>\n",
       "      <td>Student Support</td>\n",
       "      <td>Charter School</td>\n",
       "      <td>409.7</td>\n",
       "      <td>1698.7</td>\n",
       "      <td>24.1</td>\n",
       "    </tr>\n",
       "    <tr>\n",
       "      <th>15</th>\n",
       "      <td>Student Support</td>\n",
       "      <td>Public School</td>\n",
       "      <td>2648.7</td>\n",
       "      <td>35550.1</td>\n",
       "      <td>7.5</td>\n",
       "    </tr>\n",
       "    <tr>\n",
       "      <th>16</th>\n",
       "      <td>Teachers</td>\n",
       "      <td>Charter School</td>\n",
       "      <td>2356.1</td>\n",
       "      <td>14556.5</td>\n",
       "      <td>16.2</td>\n",
       "    </tr>\n",
       "    <tr>\n",
       "      <th>17</th>\n",
       "      <td>Teachers</td>\n",
       "      <td>Public School</td>\n",
       "      <td>25619.6</td>\n",
       "      <td>397616.5</td>\n",
       "      <td>6.4</td>\n",
       "    </tr>\n",
       "  </tbody>\n",
       "</table>\n",
       "</div>"
      ],
      "text/plain": [
       "                 Job Category        Org Type  Nonwhite (Num Staff)  \\\n",
       "0      Administrative Support  Charter School                 595.2   \n",
       "1      Administrative Support   Public School                2598.7   \n",
       "2                   All Staff  Charter School                4576.3   \n",
       "3                   All Staff   Public School               49212.4   \n",
       "4            District Leaders  Charter School                  63.8   \n",
       "5            District Leaders   Public School                  90.6   \n",
       "6                      Health  Charter School                  61.2   \n",
       "7                      Health   Public School                 446.4   \n",
       "8           Paraprofessionals  Charter School                 722.7   \n",
       "9           Paraprofessionals   Public School               14789.5   \n",
       "10  Related Service Providers  Charter School                  38.9   \n",
       "11  Related Service Providers   Public School                 639.9   \n",
       "12             School Leaders  Charter School                 330.0   \n",
       "13             School Leaders   Public School                2386.3   \n",
       "14            Student Support  Charter School                 409.7   \n",
       "15            Student Support   Public School                2648.7   \n",
       "16                   Teachers  Charter School                2356.1   \n",
       "17                   Teachers   Public School               25619.6   \n",
       "\n",
       "    FTE Count  % Nonwhite Staff  \n",
       "0      1746.0              34.1  \n",
       "1     31716.1               8.2  \n",
       "2     23120.1              19.8  \n",
       "3    649569.0               7.6  \n",
       "4       341.4              18.7  \n",
       "5      1774.5               5.1  \n",
       "6       349.0              17.5  \n",
       "7     10491.0               4.3  \n",
       "8      2518.0              28.7  \n",
       "9    130270.5              11.4  \n",
       "10      436.0               8.9  \n",
       "11    18753.8               3.4  \n",
       "12     1489.9              22.1  \n",
       "13    23621.7              10.1  \n",
       "14     1698.7              24.1  \n",
       "15    35550.1               7.5  \n",
       "16    14556.5              16.2  \n",
       "17   397616.5               6.4  "
      ]
     },
     "execution_count": 87,
     "metadata": {},
     "output_type": "execute_result"
    }
   ],
   "source": [
    "df_jobs_grouped.reset_index()"
   ]
  },
  {
   "cell_type": "code",
   "execution_count": 88,
   "metadata": {},
   "outputs": [
    {
     "data": {
      "image/png": "[encoded data removed]",
      "text/plain": [
       "<matplotlib.figure.Figure at 0x186a3e507b8>"
      ]
     },
     "metadata": {},
     "output_type": "display_data"
    }
   ],
   "source": [
    "job = df_jobs_grouped[\"% Nonwhite Staff\"].sort_values(ascending = False).plot(kind = \"bar\", figsize = (15, 3))"
   ]
  },
  {
   "cell_type": "code",
   "execution_count": 91,
   "metadata": {},
   "outputs": [],
   "source": [
    "## Examine trends over time\n",
    "year_grouped = df.groupby([\"Year\", \"Org Type\"]).sum()[[\"Nonwhite (Num Stu)\", \"Total Students\", \"Nonwhite (Num Staff)\", \"FTE Count\"]]"
   ]
  },
  {
   "cell_type": "code",
   "execution_count": 92,
   "metadata": {
    "collapsed": true
   },
   "outputs": [],
   "source": [
    "year_grouped['Perc Nonwhite Students'] = year_grouped['Nonwhite (Num Stu)'] / year_grouped['Total Students'] * 100\n",
    "year_grouped['Perc Nonwhite Staff'] = year_grouped['Nonwhite (Num Staff)'] / year_grouped['FTE Count'] * 100"
   ]
  },
  {
   "cell_type": "code",
   "execution_count": 93,
   "metadata": {
    "collapsed": true
   },
   "outputs": [],
   "source": [
    "year_grouped = year_grouped.reset_index()"
   ]
  },
  {
   "cell_type": "code",
   "execution_count": 94,
   "metadata": {},
   "outputs": [
    {
     "data": {
      "text/html": [
       "<div>\n",
       "<style>\n",
       "    .dataframe thead tr:only-child th {\n",
       "        text-align: right;\n",
       "    }\n",
       "\n",
       "    .dataframe thead th {\n",
       "        text-align: left;\n",
       "    }\n",
       "\n",
       "    .dataframe tbody tr th {\n",
       "        vertical-align: top;\n",
       "    }\n",
       "</style>\n",
       "<table border=\"1\" class=\"dataframe\">\n",
       "  <thead>\n",
       "    <tr style=\"text-align: right;\">\n",
       "      <th></th>\n",
       "      <th>Year</th>\n",
       "      <th>Org Type</th>\n",
       "      <th>Nonwhite (Num Stu)</th>\n",
       "      <th>Total Students</th>\n",
       "      <th>Nonwhite (Num Staff)</th>\n",
       "      <th>FTE Count</th>\n",
       "      <th>Perc Nonwhite Students</th>\n",
       "      <th>Perc Nonwhite Staff</th>\n",
       "    </tr>\n",
       "  </thead>\n",
       "  <tbody>\n",
       "    <tr>\n",
       "      <th>0</th>\n",
       "      <td>2010</td>\n",
       "      <td>Charter School</td>\n",
       "      <td>134559.0</td>\n",
       "      <td>232866</td>\n",
       "      <td>1194.7</td>\n",
       "      <td>6498.3</td>\n",
       "      <td>57.783876</td>\n",
       "      <td>18.384808</td>\n",
       "    </tr>\n",
       "    <tr>\n",
       "      <th>1</th>\n",
       "      <td>2010</td>\n",
       "      <td>Public School</td>\n",
       "      <td>2341881.0</td>\n",
       "      <td>7930944</td>\n",
       "      <td>15909.5</td>\n",
       "      <td>211654.0</td>\n",
       "      <td>29.528402</td>\n",
       "      <td>7.516749</td>\n",
       "    </tr>\n",
       "    <tr>\n",
       "      <th>2</th>\n",
       "      <td>2011</td>\n",
       "      <td>Charter School</td>\n",
       "      <td>140292.0</td>\n",
       "      <td>241155</td>\n",
       "      <td>1273.2</td>\n",
       "      <td>6772.2</td>\n",
       "      <td>58.175033</td>\n",
       "      <td>18.800390</td>\n",
       "    </tr>\n",
       "    <tr>\n",
       "      <th>3</th>\n",
       "      <td>2011</td>\n",
       "      <td>Public School</td>\n",
       "      <td>2423151.0</td>\n",
       "      <td>7928865</td>\n",
       "      <td>15764.1</td>\n",
       "      <td>209988.5</td>\n",
       "      <td>30.561133</td>\n",
       "      <td>7.507125</td>\n",
       "    </tr>\n",
       "    <tr>\n",
       "      <th>4</th>\n",
       "      <td>2012</td>\n",
       "      <td>Charter School</td>\n",
       "      <td>152136.0</td>\n",
       "      <td>255591</td>\n",
       "      <td>1402.5</td>\n",
       "      <td>7263.5</td>\n",
       "      <td>59.523223</td>\n",
       "      <td>19.308873</td>\n",
       "    </tr>\n",
       "    <tr>\n",
       "      <th>5</th>\n",
       "      <td>2012</td>\n",
       "      <td>Public School</td>\n",
       "      <td>2535345.0</td>\n",
       "      <td>7981803</td>\n",
       "      <td>16249.5</td>\n",
       "      <td>213229.3</td>\n",
       "      <td>31.764064</td>\n",
       "      <td>7.620669</td>\n",
       "    </tr>\n",
       "    <tr>\n",
       "      <th>6</th>\n",
       "      <td>2013</td>\n",
       "      <td>Charter School</td>\n",
       "      <td>164106.0</td>\n",
       "      <td>269865</td>\n",
       "      <td>1516.3</td>\n",
       "      <td>7819.2</td>\n",
       "      <td>60.810405</td>\n",
       "      <td>19.392009</td>\n",
       "    </tr>\n",
       "    <tr>\n",
       "      <th>7</th>\n",
       "      <td>2013</td>\n",
       "      <td>Public School</td>\n",
       "      <td>2622051.0</td>\n",
       "      <td>8014023</td>\n",
       "      <td>16866.1</td>\n",
       "      <td>217587.4</td>\n",
       "      <td>32.718286</td>\n",
       "      <td>7.751414</td>\n",
       "    </tr>\n",
       "    <tr>\n",
       "      <th>8</th>\n",
       "      <td>2014</td>\n",
       "      <td>Charter School</td>\n",
       "      <td>187713.0</td>\n",
       "      <td>296559</td>\n",
       "      <td>1730.1</td>\n",
       "      <td>8430.3</td>\n",
       "      <td>63.297017</td>\n",
       "      <td>20.522401</td>\n",
       "    </tr>\n",
       "    <tr>\n",
       "      <th>9</th>\n",
       "      <td>2014</td>\n",
       "      <td>Public School</td>\n",
       "      <td>2716492.0</td>\n",
       "      <td>8057532</td>\n",
       "      <td>16427.3</td>\n",
       "      <td>220874.1</td>\n",
       "      <td>33.713698</td>\n",
       "      <td>7.437404</td>\n",
       "    </tr>\n",
       "    <tr>\n",
       "      <th>10</th>\n",
       "      <td>2015</td>\n",
       "      <td>Charter School</td>\n",
       "      <td>214290.0</td>\n",
       "      <td>326448</td>\n",
       "      <td>2037.1</td>\n",
       "      <td>9472.1</td>\n",
       "      <td>65.642920</td>\n",
       "      <td>21.506319</td>\n",
       "    </tr>\n",
       "    <tr>\n",
       "      <th>11</th>\n",
       "      <td>2015</td>\n",
       "      <td>Public School</td>\n",
       "      <td>2833641.0</td>\n",
       "      <td>8119539</td>\n",
       "      <td>17215.6</td>\n",
       "      <td>226029.9</td>\n",
       "      <td>34.899038</td>\n",
       "      <td>7.616514</td>\n",
       "    </tr>\n",
       "  </tbody>\n",
       "</table>\n",
       "</div>"
      ],
      "text/plain": [
       "    Year        Org Type  Nonwhite (Num Stu)  Total Students  \\\n",
       "0   2010  Charter School            134559.0          232866   \n",
       "1   2010   Public School           2341881.0         7930944   \n",
       "2   2011  Charter School            140292.0          241155   \n",
       "3   2011   Public School           2423151.0         7928865   \n",
       "4   2012  Charter School            152136.0          255591   \n",
       "5   2012   Public School           2535345.0         7981803   \n",
       "6   2013  Charter School            164106.0          269865   \n",
       "7   2013   Public School           2622051.0         8014023   \n",
       "8   2014  Charter School            187713.0          296559   \n",
       "9   2014   Public School           2716492.0         8057532   \n",
       "10  2015  Charter School            214290.0          326448   \n",
       "11  2015   Public School           2833641.0         8119539   \n",
       "\n",
       "    Nonwhite (Num Staff)  FTE Count  Perc Nonwhite Students  \\\n",
       "0                 1194.7     6498.3               57.783876   \n",
       "1                15909.5   211654.0               29.528402   \n",
       "2                 1273.2     6772.2               58.175033   \n",
       "3                15764.1   209988.5               30.561133   \n",
       "4                 1402.5     7263.5               59.523223   \n",
       "5                16249.5   213229.3               31.764064   \n",
       "6                 1516.3     7819.2               60.810405   \n",
       "7                16866.1   217587.4               32.718286   \n",
       "8                 1730.1     8430.3               63.297017   \n",
       "9                16427.3   220874.1               33.713698   \n",
       "10                2037.1     9472.1               65.642920   \n",
       "11               17215.6   226029.9               34.899038   \n",
       "\n",
       "    Perc Nonwhite Staff  \n",
       "0             18.384808  \n",
       "1              7.516749  \n",
       "2             18.800390  \n",
       "3              7.507125  \n",
       "4             19.308873  \n",
       "5              7.620669  \n",
       "6             19.392009  \n",
       "7              7.751414  \n",
       "8             20.522401  \n",
       "9              7.437404  \n",
       "10            21.506319  \n",
       "11             7.616514  "
      ]
     },
     "execution_count": 94,
     "metadata": {},
     "output_type": "execute_result"
    }
   ],
   "source": [
    "year_grouped"
   ]
  },
  {
   "cell_type": "code",
   "execution_count": 97,
   "metadata": {
    "collapsed": true
   },
   "outputs": [],
   "source": [
    "charter_mask = year_grouped[\"Org Type\"] == \"Charter School\"\n",
    "year_grouped_charter = year_grouped[charter_mask]\n",
    "year_grouped_public = year_grouped[~charter_mask]"
   ]
  },
  {
   "cell_type": "code",
   "execution_count": 102,
   "metadata": {},
   "outputs": [
    {
     "data": {
      "text/plain": [
       "(0, 75)"
      ]
     },
     "execution_count": 102,
     "metadata": {},
     "output_type": "execute_result"
    },
    {
     "data": {
      "image/png": "[encoded data removed]",
      "text/plain": [
       "<matplotlib.figure.Figure at 0x186a081a518>"
      ]
     },
     "metadata": {},
     "output_type": "display_data"
    }
   ],
   "source": [
    "ax = year_grouped_charter[['Year', 'Org Type', 'Perc Nonwhite Students', 'Perc Nonwhite Staff']].set_index('Year').plot()\n",
    "ax.set_ylim(ymin = 0, ymax = 75)"
   ]
  },
  {
   "cell_type": "code",
   "execution_count": 101,
   "metadata": {},
   "outputs": [
    {
     "data": {
      "text/plain": [
       "(0, 75)"
      ]
     },
     "execution_count": 101,
     "metadata": {},
     "output_type": "execute_result"
    },
    {
     "data": {
      "image/png": "[encoded data removed]",
      "text/plain": [
       "<matplotlib.figure.Figure at 0x186a07decc0>"
      ]
     },
     "metadata": {},
     "output_type": "display_data"
    }
   ],
   "source": [
    "ax = year_grouped_public[['Year', 'Org Type', 'Perc Nonwhite Students', 'Perc Nonwhite Staff']].set_index('Year').plot()\n",
    "ax.set_ylim(ymin = 0, ymax = 75)"
   ]
  },
  {
   "cell_type": "code",
   "execution_count": 103,
   "metadata": {
    "collapsed": true
   },
   "outputs": [],
   "source": [
    "## Group all staff and students on Zip Code\n",
    "staff_mask = df[\"Job Category\"] == \"All Staff\"\n",
    "df_staff = df[staff_mask]"
   ]
  },
  {
   "cell_type": "code",
   "execution_count": 104,
   "metadata": {
    "collapsed": true
   },
   "outputs": [],
   "source": [
    "df_zip = pd.merge(df_staff, addresses, how = \"inner\", on = \"Org Code\")\n",
    "df_zip = df_zip.fillna(0)"
   ]
  },
  {
   "cell_type": "code",
   "execution_count": 105,
   "metadata": {
    "collapsed": true
   },
   "outputs": [],
   "source": [
    "zip_grouped = df_zip.groupby(\"Zip Code\").sum()[[\"Nonwhite (Num Stu)\", \"Total Students\", \"Nonwhite (Num Staff)\", \"FTE Count\"]]"
   ]
  },
  {
   "cell_type": "code",
   "execution_count": 106,
   "metadata": {
    "collapsed": true
   },
   "outputs": [],
   "source": [
    "zip_grouped['Perc Nonwhite Students'] = zip_grouped['Nonwhite (Num Stu)'] / zip_grouped['Total Students'] * 100\n",
    "zip_grouped['Perc Nonwhite Staff'] = zip_grouped['Nonwhite (Num Staff)'] / zip_grouped['FTE Count'] * 100"
   ]
  },
  {
   "cell_type": "code",
   "execution_count": 107,
   "metadata": {
    "collapsed": true
   },
   "outputs": [],
   "source": [
    "zip_grouped = zip_grouped.reset_index()"
   ]
  },
  {
   "cell_type": "code",
   "execution_count": 108,
   "metadata": {
    "collapsed": true
   },
   "outputs": [],
   "source": [
    "df_zip = pd.merge(zip_grouped, acs, how = \"inner\", on = \"Zip Code\")"
   ]
  },
  {
   "cell_type": "code",
   "execution_count": 109,
   "metadata": {},
   "outputs": [
    {
     "data": {
      "text/plain": [
       "Index(['Zip Code', 'Nonwhite (Num Stu)', 'Total Students',\n",
       "       'Nonwhite (Num Staff)', 'FTE Count', 'Perc Nonwhite Students',\n",
       "       'Perc Nonwhite Staff', 'Median Income', 'Percent Poverty',\n",
       "       '% HS Graduates', '% College Graduates'],\n",
       "      dtype='object')"
      ]
     },
     "execution_count": 109,
     "metadata": {},
     "output_type": "execute_result"
    }
   ],
   "source": [
    "df_zip.columns"
   ]
  },
  {
   "cell_type": "code",
   "execution_count": 110,
   "metadata": {},
   "outputs": [
    {
     "data": {
      "image/png": "[encoded data removed]",
      "text/plain": [
       "<matplotlib.figure.Figure at 0x186a12e2e10>"
      ]
     },
     "metadata": {},
     "output_type": "display_data"
    }
   ],
   "source": [
    "sns.regplot(x = \"Perc Nonwhite Students\", y = \"Perc Nonwhite Staff\", data = df_zip, color=\"green\", scatter_kws = {\"alpha\" : 0.1,});"
   ]
  },
  {
   "cell_type": "code",
   "execution_count": 114,
   "metadata": {},
   "outputs": [
    {
     "data": {
      "text/html": [
       "<table class=\"simpletable\">\n",
       "<caption>OLS Regression Results</caption>\n",
       "<tr>\n",
       "  <th>Dep. Variable:</th>      <td>perc_nw_staff</td>  <th>  R-squared:         </th> <td>   0.702</td> \n",
       "</tr>\n",
       "<tr>\n",
       "  <th>Model:</th>                   <td>OLS</td>       <th>  Adj. R-squared:    </th> <td>   0.699</td> \n",
       "</tr>\n",
       "<tr>\n",
       "  <th>Method:</th>             <td>Least Squares</td>  <th>  F-statistic:       </th> <td>   196.2</td> \n",
       "</tr>\n",
       "<tr>\n",
       "  <th>Date:</th>             <td>Mon, 27 Nov 2017</td> <th>  Prob (F-statistic):</th> <td>5.12e-107</td>\n",
       "</tr>\n",
       "<tr>\n",
       "  <th>Time:</th>                 <td>19:07:08</td>     <th>  Log-Likelihood:    </th> <td> -1327.4</td> \n",
       "</tr>\n",
       "<tr>\n",
       "  <th>No. Observations:</th>      <td>   422</td>      <th>  AIC:               </th> <td>   2667.</td> \n",
       "</tr>\n",
       "<tr>\n",
       "  <th>Df Residuals:</th>          <td>   416</td>      <th>  BIC:               </th> <td>   2691.</td> \n",
       "</tr>\n",
       "<tr>\n",
       "  <th>Df Model:</th>              <td>     5</td>      <th>                     </th>     <td> </td>    \n",
       "</tr>\n",
       "<tr>\n",
       "  <th>Covariance Type:</th>      <td>nonrobust</td>    <th>                     </th>     <td> </td>    \n",
       "</tr>\n",
       "</table>\n",
       "<table class=\"simpletable\">\n",
       "<tr>\n",
       "        <td></td>          <th>coef</th>     <th>std err</th>      <th>t</th>      <th>P>|t|</th>  <th>[0.025</th>    <th>0.975]</th>  \n",
       "</tr>\n",
       "<tr>\n",
       "  <th>Intercept</th>    <td>  -10.1915</td> <td>    6.950</td> <td>   -1.466</td> <td> 0.143</td> <td>  -23.854</td> <td>    3.471</td>\n",
       "</tr>\n",
       "<tr>\n",
       "  <th>perc_nw_stu</th>  <td>    0.3312</td> <td>    0.017</td> <td>   19.583</td> <td> 0.000</td> <td>    0.298</td> <td>    0.364</td>\n",
       "</tr>\n",
       "<tr>\n",
       "  <th>hs_grad</th>      <td>    0.0690</td> <td>    0.077</td> <td>    0.901</td> <td> 0.368</td> <td>   -0.081</td> <td>    0.219</td>\n",
       "</tr>\n",
       "<tr>\n",
       "  <th>med_income</th>   <td>-2.532e-05</td> <td> 1.73e-05</td> <td>   -1.464</td> <td> 0.144</td> <td>-5.93e-05</td> <td> 8.68e-06</td>\n",
       "</tr>\n",
       "<tr>\n",
       "  <th>college_grad</th> <td>    0.0729</td> <td>    0.030</td> <td>    2.450</td> <td> 0.015</td> <td>    0.014</td> <td>    0.131</td>\n",
       "</tr>\n",
       "<tr>\n",
       "  <th>perc_poverty</th> <td>    0.0411</td> <td>    0.040</td> <td>    1.016</td> <td> 0.310</td> <td>   -0.038</td> <td>    0.121</td>\n",
       "</tr>\n",
       "</table>\n",
       "<table class=\"simpletable\">\n",
       "<tr>\n",
       "  <th>Omnibus:</th>       <td>225.107</td> <th>  Durbin-Watson:     </th> <td>   0.823</td>\n",
       "</tr>\n",
       "<tr>\n",
       "  <th>Prob(Omnibus):</th> <td> 0.000</td>  <th>  Jarque-Bera (JB):  </th> <td>2174.104</td>\n",
       "</tr>\n",
       "<tr>\n",
       "  <th>Skew:</th>          <td> 2.081</td>  <th>  Prob(JB):          </th> <td>    0.00</td>\n",
       "</tr>\n",
       "<tr>\n",
       "  <th>Kurtosis:</th>      <td>13.311</td>  <th>  Cond. No.          </th> <td>2.10e+06</td>\n",
       "</tr>\n",
       "</table>"
      ],
      "text/plain": [
       "<class 'statsmodels.iolib.summary.Summary'>\n",
       "\"\"\"\n",
       "                            OLS Regression Results                            \n",
       "==============================================================================\n",
       "Dep. Variable:          perc_nw_staff   R-squared:                       0.702\n",
       "Model:                            OLS   Adj. R-squared:                  0.699\n",
       "Method:                 Least Squares   F-statistic:                     196.2\n",
       "Date:                Mon, 27 Nov 2017   Prob (F-statistic):          5.12e-107\n",
       "Time:                        19:07:08   Log-Likelihood:                -1327.4\n",
       "No. Observations:                 422   AIC:                             2667.\n",
       "Df Residuals:                     416   BIC:                             2691.\n",
       "Df Model:                           5                                         \n",
       "Covariance Type:            nonrobust                                         \n",
       "================================================================================\n",
       "                   coef    std err          t      P>|t|      [0.025      0.975]\n",
       "--------------------------------------------------------------------------------\n",
       "Intercept      -10.1915      6.950     -1.466      0.143     -23.854       3.471\n",
       "perc_nw_stu      0.3312      0.017     19.583      0.000       0.298       0.364\n",
       "hs_grad          0.0690      0.077      0.901      0.368      -0.081       0.219\n",
       "med_income   -2.532e-05   1.73e-05     -1.464      0.144   -5.93e-05    8.68e-06\n",
       "college_grad     0.0729      0.030      2.450      0.015       0.014       0.131\n",
       "perc_poverty     0.0411      0.040      1.016      0.310      -0.038       0.121\n",
       "==============================================================================\n",
       "Omnibus:                      225.107   Durbin-Watson:                   0.823\n",
       "Prob(Omnibus):                  0.000   Jarque-Bera (JB):             2174.104\n",
       "Skew:                           2.081   Prob(JB):                         0.00\n",
       "Kurtosis:                      13.311   Cond. No.                     2.10e+06\n",
       "==============================================================================\n",
       "\n",
       "Warnings:\n",
       "[1] Standard Errors assume that the covariance matrix of the errors is correctly specified.\n",
       "[2] The condition number is large, 2.1e+06. This might indicate that there are\n",
       "strong multicollinearity or other numerical problems.\n",
       "\"\"\""
      ]
     },
     "execution_count": 114,
     "metadata": {},
     "output_type": "execute_result"
    }
   ],
   "source": [
    "## Don't think this is more interesting than the school level regression\n",
    "\n",
    "ols = smf.ols(formula = \"perc_nw_staff ~ perc_nw_stu + hs_grad + med_income + college_grad + perc_poverty\",\n",
    "              data = df_zip.rename(columns = {\"Perc Nonwhite Students\" : \"perc_nw_stu\", \n",
    "                                              \"Perc Nonwhite Staff\"  : \"perc_nw_staff\",\n",
    "                                              \"Median Income\": \"med_income\",\n",
    "                                              \"Percent Poverty\": \"perc_poverty\",\n",
    "                                              \"% HS Graduates\": \"hs_grad\",\n",
    "                                             \"% College Graduates\": \"college_grad\"}))\n",
    "model = ols.fit()\n",
    "model.summary()"
   ]
  }
 ],
 "metadata": {
  "kernelspec": {
   "display_name": "Python 3",
   "language": "python",
   "name": "python3"
  },
  "language_info": {
   "codemirror_mode": {
    "name": "ipython",
    "version": 3
   },
   "file_extension": ".py",
   "mimetype": "text/x-python",
   "name": "python",
   "nbconvert_exporter": "python",
   "pygments_lexer": "ipython3",
   "version": "3.6.1"
  }
 },
 "nbformat": 4,
 "nbformat_minor": 2
}
