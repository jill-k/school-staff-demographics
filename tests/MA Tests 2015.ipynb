{
 "cells": [
  {
   "cell_type": "code",
   "execution_count": 1,
   "metadata": {},
   "outputs": [
    {
     "name": "stderr",
     "output_type": "stream",
     "text": [
      "C:\\Users\\jillk\\Anaconda3\\lib\\site-packages\\statsmodels\\compat\\pandas.py:56: FutureWarning: The pandas.core.datetools module is deprecated and will be removed in a future version. Please use the pandas.tseries module instead.\n",
      "  from pandas.core import datetools\n"
     ]
    }
   ],
   "source": [
    "import pandas as pd\n",
    "import re\n",
    "import os\n",
    "import matplotlib.pyplot as plt\n",
    "import seaborn as sns\n",
    "%matplotlib inline\n",
    "import numpy as np\n",
    "from scipy import stats\n",
    "import statsmodels.api as sm\n",
    "import statsmodels.formula.api as smf"
   ]
  },
  {
   "cell_type": "code",
   "execution_count": 69,
   "metadata": {},
   "outputs": [],
   "source": [
    "mcas = pd.read_csv(\"mcas_2015.csv\", usecols = [\"School Code\", \"Subject\", \"P+A %\", \"Student Included\", \"CPI\", \"SGP\"])\n",
    "parcc_ela = pd.read_csv(\"parcc_ela_2015.csv\", usecols = [\"Org Code\", \"Stud. Incl. #\", \"L4+5 %\", \"Trans. CPI Mean\", \"Trans. SGP Median\"])\n",
    "parcc_math = pd.read_csv(\"parcc_math_2015.csv\", usecols = [\"Org Code\", \"Stud. Incl. #\", \"L4+5 %\", \"Trans. CPI Mean\", \"Trans. SGP Median\"])"
   ]
  },
  {
   "cell_type": "code",
   "execution_count": 70,
   "metadata": {},
   "outputs": [],
   "source": [
    "parcc_ela = parcc_ela.rename(columns={\"Stud. Incl. #\": \"Students (ELA)\", \"L4+5 %\": \"Perc Proficient (ELA)\", \"Trans. CPI Mean\": \"CPI (ELA)\", \"Trans. SGP Median\": \"SGP (ELA)\"})\n",
    "parcc_math = parcc_math.rename(columns={\"Stud. Incl. #\": \"Students (Math)\", \"L4+5 %\": \"Perc Proficient (Math)\", \"Trans. CPI Mean\": \"CPI (Math)\", \"Trans. SGP Median\": \"SGP (Math)\"})"
   ]
  },
  {
   "cell_type": "code",
   "execution_count": 71,
   "metadata": {},
   "outputs": [],
   "source": [
    "parcc = pd.merge(parcc_ela, parcc_math, how= \"inner\", on='Org Code')"
   ]
  },
  {
   "cell_type": "code",
   "execution_count": 72,
   "metadata": {},
   "outputs": [],
   "source": [
    "parcc[\"Test\"] = \"PARCC\""
   ]
  },
  {
   "cell_type": "code",
   "execution_count": 73,
   "metadata": {},
   "outputs": [
    {
     "data": {
      "text/html": [
       "<div>\n",
       "<style>\n",
       "    .dataframe thead tr:only-child th {\n",
       "        text-align: right;\n",
       "    }\n",
       "\n",
       "    .dataframe thead th {\n",
       "        text-align: left;\n",
       "    }\n",
       "\n",
       "    .dataframe tbody tr th {\n",
       "        vertical-align: top;\n",
       "    }\n",
       "</style>\n",
       "<table border=\"1\" class=\"dataframe\">\n",
       "  <thead>\n",
       "    <tr style=\"text-align: right;\">\n",
       "      <th></th>\n",
       "      <th>School Code</th>\n",
       "      <th>Subject</th>\n",
       "      <th>P+A %</th>\n",
       "      <th>Student Included</th>\n",
       "      <th>CPI</th>\n",
       "      <th>SGP</th>\n",
       "    </tr>\n",
       "  </thead>\n",
       "  <tbody>\n",
       "    <tr>\n",
       "      <th>0</th>\n",
       "      <td>4450105</td>\n",
       "      <td>ENGLISH LANGUAGE ARTS</td>\n",
       "      <td>70.0</td>\n",
       "      <td>804</td>\n",
       "      <td>87.1</td>\n",
       "      <td>55.0</td>\n",
       "    </tr>\n",
       "    <tr>\n",
       "      <th>1</th>\n",
       "      <td>4450105</td>\n",
       "      <td>MATHEMATICS</td>\n",
       "      <td>55.0</td>\n",
       "      <td>804</td>\n",
       "      <td>78.9</td>\n",
       "      <td>49.0</td>\n",
       "    </tr>\n",
       "    <tr>\n",
       "      <th>2</th>\n",
       "      <td>4450105</td>\n",
       "      <td>SCIENCE AND TECH/ENG</td>\n",
       "      <td>59.0</td>\n",
       "      <td>324</td>\n",
       "      <td>83.6</td>\n",
       "      <td>NaN</td>\n",
       "    </tr>\n",
       "    <tr>\n",
       "      <th>3</th>\n",
       "      <td>10505</td>\n",
       "      <td>ENGLISH LANGUAGE ARTS</td>\n",
       "      <td>93.0</td>\n",
       "      <td>91</td>\n",
       "      <td>97.8</td>\n",
       "      <td>49.0</td>\n",
       "    </tr>\n",
       "    <tr>\n",
       "      <th>4</th>\n",
       "      <td>10505</td>\n",
       "      <td>MATHEMATICS</td>\n",
       "      <td>89.0</td>\n",
       "      <td>90</td>\n",
       "      <td>95.0</td>\n",
       "      <td>44.0</td>\n",
       "    </tr>\n",
       "  </tbody>\n",
       "</table>\n",
       "</div>"
      ],
      "text/plain": [
       "   School Code                Subject  P+A %  Student Included   CPI     SGP\n",
       "0      4450105  ENGLISH LANGUAGE ARTS   70.0               804  87.1    55.0\n",
       "1      4450105            MATHEMATICS   55.0               804  78.9    49.0\n",
       "2      4450105   SCIENCE AND TECH/ENG   59.0               324  83.6     NaN\n",
       "3        10505  ENGLISH LANGUAGE ARTS   93.0                91  97.8    49.0\n",
       "4        10505            MATHEMATICS   89.0                90  95.0    44.0"
      ]
     },
     "execution_count": 73,
     "metadata": {},
     "output_type": "execute_result"
    }
   ],
   "source": [
    "mcas.head()"
   ]
  },
  {
   "cell_type": "code",
   "execution_count": 74,
   "metadata": {
    "collapsed": true
   },
   "outputs": [],
   "source": [
    "math_mask = mcas[\"Subject\"] == \"MATHEMATICS\"\n",
    "ela_mask = mcas[\"Subject\"] == \"ENGLISH LANGUAGE ARTS\""
   ]
  },
  {
   "cell_type": "code",
   "execution_count": 75,
   "metadata": {},
   "outputs": [],
   "source": [
    "mcas_math = mcas[math_mask]\n",
    "mcas_ela = mcas[ela_mask]"
   ]
  },
  {
   "cell_type": "code",
   "execution_count": 76,
   "metadata": {},
   "outputs": [],
   "source": [
    "mcas_ela = mcas_ela.rename(columns={\"School Code\": \"Org Code\", \"Student Included\": \"Students (ELA)\", \"P+A %\": \"Perc Proficient (ELA)\", \"CPI\": \"CPI (ELA)\", \"SGP\": \"SGP (ELA)\"})\n",
    "mcas_math = mcas_math.rename(columns={\"School Code\": \"Org Code\", \"Student Included\": \"Students (Math)\", \"P+A %\": \"Perc Proficient (Math)\", \"CPI\": \"CPI (Math)\", \"SGP\": \"SGP (Math)\"})"
   ]
  },
  {
   "cell_type": "code",
   "execution_count": 77,
   "metadata": {},
   "outputs": [],
   "source": [
    "mcas_ela = mcas_ela.drop(['Subject'], axis=1)\n",
    "mcas_math = mcas_math.drop(['Subject'], axis=1)"
   ]
  },
  {
   "cell_type": "code",
   "execution_count": 78,
   "metadata": {},
   "outputs": [],
   "source": [
    "mcas = pd.merge(mcas_ela, mcas_math, how=\"left\", on= \"Org Code\")"
   ]
  },
  {
   "cell_type": "code",
   "execution_count": 79,
   "metadata": {},
   "outputs": [],
   "source": [
    "mcas[\"Test\"] = \"MCAS\""
   ]
  },
  {
   "cell_type": "code",
   "execution_count": 80,
   "metadata": {},
   "outputs": [],
   "source": [
    "tests = pd.concat([parcc, mcas])"
   ]
  },
  {
   "cell_type": "code",
   "execution_count": 81,
   "metadata": {},
   "outputs": [],
   "source": [
    "tests[\"Year\"] = 2015"
   ]
  },
  {
   "cell_type": "code",
   "execution_count": 82,
   "metadata": {},
   "outputs": [
    {
     "data": {
      "text/html": [
       "<div>\n",
       "<style>\n",
       "    .dataframe thead tr:only-child th {\n",
       "        text-align: right;\n",
       "    }\n",
       "\n",
       "    .dataframe thead th {\n",
       "        text-align: left;\n",
       "    }\n",
       "\n",
       "    .dataframe tbody tr th {\n",
       "        vertical-align: top;\n",
       "    }\n",
       "</style>\n",
       "<table border=\"1\" class=\"dataframe\">\n",
       "  <thead>\n",
       "    <tr style=\"text-align: right;\">\n",
       "      <th></th>\n",
       "      <th>Org Code</th>\n",
       "      <th>Perc Proficient (ELA)</th>\n",
       "      <th>Students (ELA)</th>\n",
       "      <th>CPI (ELA)</th>\n",
       "      <th>SGP (ELA)</th>\n",
       "      <th>Perc Proficient (Math)</th>\n",
       "      <th>Students (Math)</th>\n",
       "      <th>CPI (Math)</th>\n",
       "      <th>SGP (Math)</th>\n",
       "      <th>Test</th>\n",
       "      <th>Year</th>\n",
       "    </tr>\n",
       "  </thead>\n",
       "  <tbody>\n",
       "    <tr>\n",
       "      <th>0</th>\n",
       "      <td>4120530</td>\n",
       "      <td>45.0</td>\n",
       "      <td>294</td>\n",
       "      <td>82.6</td>\n",
       "      <td>39</td>\n",
       "      <td>41.0</td>\n",
       "      <td>291.0</td>\n",
       "      <td>74.3</td>\n",
       "      <td>51</td>\n",
       "      <td>PARCC</td>\n",
       "      <td>2015</td>\n",
       "    </tr>\n",
       "    <tr>\n",
       "      <th>1</th>\n",
       "      <td>30025</td>\n",
       "      <td>69.0</td>\n",
       "      <td>216</td>\n",
       "      <td>88.3</td>\n",
       "      <td>67</td>\n",
       "      <td>56.0</td>\n",
       "      <td>216.0</td>\n",
       "      <td>84.0</td>\n",
       "      <td>59</td>\n",
       "      <td>PARCC</td>\n",
       "      <td>2015</td>\n",
       "    </tr>\n",
       "    <tr>\n",
       "      <th>2</th>\n",
       "      <td>30305</td>\n",
       "      <td>61.0</td>\n",
       "      <td>403</td>\n",
       "      <td>90.2</td>\n",
       "      <td>53</td>\n",
       "      <td>57.0</td>\n",
       "      <td>400.0</td>\n",
       "      <td>81.8</td>\n",
       "      <td>64</td>\n",
       "      <td>PARCC</td>\n",
       "      <td>2015</td>\n",
       "    </tr>\n",
       "    <tr>\n",
       "      <th>3</th>\n",
       "      <td>4090205</td>\n",
       "      <td>46.0</td>\n",
       "      <td>117</td>\n",
       "      <td>78.0</td>\n",
       "      <td>16</td>\n",
       "      <td>44.0</td>\n",
       "      <td>117.0</td>\n",
       "      <td>81.4</td>\n",
       "      <td>41</td>\n",
       "      <td>PARCC</td>\n",
       "      <td>2015</td>\n",
       "    </tr>\n",
       "    <tr>\n",
       "      <th>4</th>\n",
       "      <td>90310</td>\n",
       "      <td>78.0</td>\n",
       "      <td>536</td>\n",
       "      <td>95.2</td>\n",
       "      <td>43</td>\n",
       "      <td>68.0</td>\n",
       "      <td>532.0</td>\n",
       "      <td>88.1</td>\n",
       "      <td>39</td>\n",
       "      <td>PARCC</td>\n",
       "      <td>2015</td>\n",
       "    </tr>\n",
       "  </tbody>\n",
       "</table>\n",
       "</div>"
      ],
      "text/plain": [
       "   Org Code  Perc Proficient (ELA)  Students (ELA)  CPI (ELA) SGP (ELA)  \\\n",
       "0   4120530                   45.0             294       82.6        39   \n",
       "1     30025                   69.0             216       88.3        67   \n",
       "2     30305                   61.0             403       90.2        53   \n",
       "3   4090205                   46.0             117       78.0        16   \n",
       "4     90310                   78.0             536       95.2        43   \n",
       "\n",
       "   Perc Proficient (Math)  Students (Math)  CPI (Math) SGP (Math)   Test  Year  \n",
       "0                    41.0            291.0        74.3         51  PARCC  2015  \n",
       "1                    56.0            216.0        84.0         59  PARCC  2015  \n",
       "2                    57.0            400.0        81.8         64  PARCC  2015  \n",
       "3                    44.0            117.0        81.4         41  PARCC  2015  \n",
       "4                    68.0            532.0        88.1         39  PARCC  2015  "
      ]
     },
     "execution_count": 82,
     "metadata": {},
     "output_type": "execute_result"
    }
   ],
   "source": [
    "tests.head()"
   ]
  },
  {
   "cell_type": "code",
   "execution_count": 83,
   "metadata": {},
   "outputs": [],
   "source": [
    "tests = tests.set_index('Org Code')\n",
    "tests.to_csv(\"tests_all.csv\")"
   ]
  }
 ],
 "metadata": {
  "kernelspec": {
   "display_name": "Python 3",
   "language": "python",
   "name": "python3"
  },
  "language_info": {
   "codemirror_mode": {
    "name": "ipython",
    "version": 3
   },
   "file_extension": ".py",
   "mimetype": "text/x-python",
   "name": "python",
   "nbconvert_exporter": "python",
   "pygments_lexer": "ipython3",
   "version": "3.6.1"
  }
 },
 "nbformat": 4,
 "nbformat_minor": 2
}
