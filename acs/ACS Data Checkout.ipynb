{
 "cells": [
  {
   "cell_type": "markdown",
   "metadata": {},
   "source": [
    "Goal: Merge several ACS variables of interest by zip code to one data frame. The variables we chose are:\n",
    "\n",
    "* DP05_0032PE: Percent of nonwhite residents\n",
    "* DP03_0062E: Median household income\n",
    "* DP03_0120PE: Percent of households with an 18 year-old child or younger below the poverty line\n",
    "* DP02_0066PE: Percent high school graduates\n",
    "* DP02_0067PE: Percent college graduates"
   ]
  },
  {
   "cell_type": "code",
   "execution_count": 42,
   "metadata": {
    "collapsed": true
   },
   "outputs": [],
   "source": [
    "import numpy as np\n",
    "import pandas as pd\n",
    "import requests"
   ]
  },
  {
   "cell_type": "markdown",
   "metadata": {},
   "source": [
    "The below function allows us to specify a variable and get data back at the zip code level"
   ]
  },
  {
   "cell_type": "code",
   "execution_count": 43,
   "metadata": {
    "collapsed": true
   },
   "outputs": [],
   "source": [
    "def get_ma_data(variable):\n",
    "  api_base = \"https://api.census.gov/data/2015/acs5/profile?for=zip%20code%20tabulation%20area:*&get=NAME,\"\n",
    "  return requests.get(api_base + variable).json()"
   ]
  },
  {
   "cell_type": "markdown",
   "metadata": {},
   "source": [
    "We only needed data for the zip codes in our dataset, so we pulled a list from our school address file. Once we had the data from our API request, we passed it through the list of zip codes and kept only the relevant columns and rows. "
   ]
  },
  {
   "cell_type": "code",
   "execution_count": 44,
   "metadata": {
    "collapsed": true
   },
   "outputs": [],
   "source": [
    "ma_zip_codes = pd.read_csv(\"school_addresses.csv\", encoding = \"ISO-8859-1\", converters={'Zip Code': str})\n",
    "zip_list = list(set(ma_zip_codes['Zip Code'].tolist()))"
   ]
  },
  {
   "cell_type": "code",
   "execution_count": 55,
   "metadata": {
    "collapsed": true
   },
   "outputs": [],
   "source": [
    "def create_df(data, var):\n",
    "    df = []\n",
    "    for i in data:\n",
    "        if i[2] in zip_list:\n",
    "            df.append(i)\n",
    "    frame = pd.DataFrame(df, columns = [\"Name\", var, \"Zip Code\"])\n",
    "    return frame"
   ]
  },
  {
   "cell_type": "code",
   "execution_count": 61,
   "metadata": {
    "collapsed": true
   },
   "outputs": [],
   "source": [
    "perc_white = get_ma_data(\"DP05_0032PE\")\n",
    "perc_white_df = create_df(perc_white, \"Zip Perc White\")"
   ]
  },
  {
   "cell_type": "code",
   "execution_count": 63,
   "metadata": {
    "collapsed": true
   },
   "outputs": [],
   "source": [
    "median_income = get_ma_data(\"DP03_0062E\")\n",
    "median_income_df = create_df(median_income, \"Median Income\")"
   ]
  },
  {
   "cell_type": "code",
   "execution_count": 65,
   "metadata": {
    "collapsed": true
   },
   "outputs": [],
   "source": [
    "perc_poverty_kids = get_ma_data(\"DP03_0120PE\")\n",
    "percent_poverty_kids_df = create_df(hs_grad, \"Percent Poverty\")"
   ]
  },
  {
   "cell_type": "code",
   "execution_count": 66,
   "metadata": {
    "collapsed": true
   },
   "outputs": [],
   "source": [
    "hs_grad = get_ma_data(\"DP02_0066PE\")\n",
    "hs_grad_df = create_df(hs_grad, \"% HS Graduates\")"
   ]
  },
  {
   "cell_type": "code",
   "execution_count": 67,
   "metadata": {
    "collapsed": true
   },
   "outputs": [],
   "source": [
    "college_grad = get_ma_data(\"DP02_0067PE\")\n",
    "college_grad_df = create_df(college_grad, \"% College Graduates\")"
   ]
  },
  {
   "cell_type": "markdown",
   "metadata": {},
   "source": [
    "We then merged the dataframes together before exporting our master file."
   ]
  },
  {
   "cell_type": "code",
   "execution_count": 70,
   "metadata": {},
   "outputs": [
    {
     "data": {
      "text/html": [
       "<div>\n",
       "<style>\n",
       "    .dataframe thead tr:only-child th {\n",
       "        text-align: right;\n",
       "    }\n",
       "\n",
       "    .dataframe thead th {\n",
       "        text-align: left;\n",
       "    }\n",
       "\n",
       "    .dataframe tbody tr th {\n",
       "        vertical-align: top;\n",
       "    }\n",
       "</style>\n",
       "<table border=\"1\" class=\"dataframe\">\n",
       "  <thead>\n",
       "    <tr style=\"text-align: right;\">\n",
       "      <th></th>\n",
       "      <th>Name</th>\n",
       "      <th>Median Income</th>\n",
       "      <th>Zip Code</th>\n",
       "      <th>Percent Poverty</th>\n",
       "      <th>% HS Graduates</th>\n",
       "      <th>% College Graduates</th>\n",
       "      <th>Zip Perc White</th>\n",
       "    </tr>\n",
       "  </thead>\n",
       "  <tbody>\n",
       "    <tr>\n",
       "      <th>0</th>\n",
       "      <td>ZCTA5 01001</td>\n",
       "      <td>60161</td>\n",
       "      <td>01001</td>\n",
       "      <td>91.5</td>\n",
       "      <td>91.5</td>\n",
       "      <td>28.0</td>\n",
       "      <td>91.8</td>\n",
       "    </tr>\n",
       "    <tr>\n",
       "      <th>1</th>\n",
       "      <td>ZCTA5 01002</td>\n",
       "      <td>50540</td>\n",
       "      <td>01002</td>\n",
       "      <td>95.6</td>\n",
       "      <td>95.6</td>\n",
       "      <td>68.0</td>\n",
       "      <td>78.4</td>\n",
       "    </tr>\n",
       "    <tr>\n",
       "      <th>2</th>\n",
       "      <td>ZCTA5 01005</td>\n",
       "      <td>68786</td>\n",
       "      <td>01005</td>\n",
       "      <td>95.7</td>\n",
       "      <td>95.7</td>\n",
       "      <td>24.0</td>\n",
       "      <td>97.3</td>\n",
       "    </tr>\n",
       "    <tr>\n",
       "      <th>3</th>\n",
       "      <td>ZCTA5 01007</td>\n",
       "      <td>76881</td>\n",
       "      <td>01007</td>\n",
       "      <td>92.4</td>\n",
       "      <td>92.4</td>\n",
       "      <td>42.0</td>\n",
       "      <td>94.9</td>\n",
       "    </tr>\n",
       "    <tr>\n",
       "      <th>4</th>\n",
       "      <td>ZCTA5 01010</td>\n",
       "      <td>87961</td>\n",
       "      <td>01010</td>\n",
       "      <td>94.0</td>\n",
       "      <td>94.0</td>\n",
       "      <td>41.6</td>\n",
       "      <td>100.0</td>\n",
       "    </tr>\n",
       "  </tbody>\n",
       "</table>\n",
       "</div>"
      ],
      "text/plain": [
       "          Name Median Income Zip Code Percent Poverty % HS Graduates  \\\n",
       "0  ZCTA5 01001         60161    01001            91.5           91.5   \n",
       "1  ZCTA5 01002         50540    01002            95.6           95.6   \n",
       "2  ZCTA5 01005         68786    01005            95.7           95.7   \n",
       "3  ZCTA5 01007         76881    01007            92.4           92.4   \n",
       "4  ZCTA5 01010         87961    01010            94.0           94.0   \n",
       "\n",
       "  % College Graduates Zip Perc White  \n",
       "0                28.0           91.8  \n",
       "1                68.0           78.4  \n",
       "2                24.0           97.3  \n",
       "3                42.0           94.9  \n",
       "4                41.6          100.0  "
      ]
     },
     "execution_count": 70,
     "metadata": {},
     "output_type": "execute_result"
    }
   ],
   "source": [
    "acs_all = pd.merge(median_income_df, percent_poverty_kids_df)\n",
    "acs_all = pd.merge(acs_all, hs_grad_df)\n",
    "acs_all = pd.merge(acs_all, college_grad_df)\n",
    "acs_all = pd.merge(acs_all, perc_white_df)\n",
    "acs_all.head()"
   ]
  },
  {
   "cell_type": "code",
   "execution_count": 41,
   "metadata": {
    "collapsed": true
   },
   "outputs": [],
   "source": [
    "acs_all.to_csv(\"acs_indicators_by_zip.csv\")"
   ]
  }
 ],
 "metadata": {
  "kernelspec": {
   "display_name": "Python 3",
   "language": "python",
   "name": "python3"
  },
  "language_info": {
   "codemirror_mode": {
    "name": "ipython",
    "version": 3
   },
   "file_extension": ".py",
   "mimetype": "text/x-python",
   "name": "python",
   "nbconvert_exporter": "python",
   "pygments_lexer": "ipython3",
   "version": "3.6.1"
  }
 },
 "nbformat": 4,
 "nbformat_minor": 2
}
